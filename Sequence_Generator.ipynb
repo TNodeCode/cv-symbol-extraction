{
 "cells": [
  {
   "cell_type": "markdown",
   "id": "a0dd9aef-6c95-4dc7-bbbd-b6eef94609e8",
   "metadata": {},
   "source": [
    "# Training sequence generator"
   ]
  },
  {
   "cell_type": "code",
   "execution_count": null,
   "id": "bcc92163-9125-450a-9850-d41d6b2fe8f5",
   "metadata": {},
   "outputs": [],
   "source": [
    "import torch\n",
    "import numpy as np\n",
    "import seqgen.seq_gen as g\n",
    "from seqgen.vocabulary import *\n",
    "from seqgen.preprocess import *"
   ]
  },
  {
   "cell_type": "code",
   "execution_count": null,
   "id": "fca95992-7b85-4baa-84d6-2ac941e5356c",
   "metadata": {},
   "outputs": [],
   "source": [
    "features, targets = g.generator(num_samples=1, swap_times=0)\n",
    "features, targets"
   ]
  },
  {
   "cell_type": "code",
   "execution_count": null,
   "id": "b674a270-7243-4c53-abe8-d5a85650c09c",
   "metadata": {},
   "outputs": [],
   "source": [
    "features, targets = g.generator(num_samples=1)\n",
    "g.save_as_json({\"features\": features, \"targets\": targets})"
   ]
  },
  {
   "cell_type": "code",
   "execution_count": null,
   "id": "664ba26d-b68c-4737-90eb-176c1bfacc3c",
   "metadata": {},
   "outputs": [],
   "source": [
    "vocab_in = Vocabulary(vocab_filename=\"seqgen/vocab_in.txt\")\n",
    "vocab_in.word2idx"
   ]
  },
  {
   "cell_type": "code",
   "execution_count": null,
   "id": "772c3d45-04a7-475c-b5c3-38a048aae557",
   "metadata": {},
   "outputs": [],
   "source": [
    "vocab_in.idx2word"
   ]
  },
  {
   "cell_type": "code",
   "execution_count": null,
   "id": "551ca926-ecf8-47c0-999e-ec3b565e83d8",
   "metadata": {},
   "outputs": [],
   "source": [
    "vocab_out = Vocabulary(vocab_filename=\"seqgen/vocab_out.txt\")\n",
    "vocab_out.word2idx"
   ]
  },
  {
   "cell_type": "markdown",
   "id": "e8956e86-0fd7-402c-a1c3-248c58c11c4f",
   "metadata": {},
   "source": [
    "### Translate sequence of tokens to sequence of integers"
   ]
  },
  {
   "cell_type": "code",
   "execution_count": null,
   "id": "12f94638-41a5-4cf7-85db-bfce1a966118",
   "metadata": {},
   "outputs": [],
   "source": [
    "encoded_feature_seqs = encode_classes_of_bboxes(features, vocab_in)\n",
    "features, encoded_feature_seqs"
   ]
  },
  {
   "cell_type": "code",
   "execution_count": null,
   "id": "98a9f289-5bcc-486a-9337-15f3569bbf17",
   "metadata": {},
   "outputs": [],
   "source": [
    "encoded_target_seqs = encode_latex_tokens(targets, vocab_out)\n",
    "targets, encoded_target_seqs"
   ]
  },
  {
   "cell_type": "markdown",
   "id": "fb643fdd-47d2-4a84-b177-a92a8fcaca31",
   "metadata": {},
   "source": [
    "### Normalize coordinates"
   ]
  },
  {
   "cell_type": "code",
   "execution_count": null,
   "id": "c22745bc-7ed0-4801-a827-d6eaf3c73741",
   "metadata": {},
   "outputs": [],
   "source": [
    "normalize_coordinates(encoded_feature_seqs)"
   ]
  },
  {
   "cell_type": "markdown",
   "id": "603472cf-9dd3-4142-882d-649d57da5e95",
   "metadata": {},
   "source": [
    "### Translate an encoded sequence back to a sequence of words"
   ]
  },
  {
   "cell_type": "code",
   "execution_count": null,
   "id": "7aafd713-3155-4159-aaf4-ba1b9e566a04",
   "metadata": {},
   "outputs": [],
   "source": [
    "print(\"Original Sequence\", targets[0])\n",
    "encoded_sequence = [vocab_out(x) for x in targets[0]]\n",
    "print(\"Encoded Sequence\", encoded_sequence)\n",
    "print(\"Decoded Sequence\", vocab_out.decode_sequence(encoded_sequence))"
   ]
  },
  {
   "cell_type": "code",
   "execution_count": null,
   "id": "0e80ac4d-6bc1-4a3b-8e7f-55da860063f3",
   "metadata": {},
   "outputs": [],
   "source": [
    "g.generate_synthetic_training_data(2, max_length=20)"
   ]
  },
  {
   "cell_type": "code",
   "execution_count": null,
   "id": "9cdc93f7-d26e-49d3-a37a-4c69c701c0d7",
   "metadata": {},
   "outputs": [],
   "source": []
  }
 ],
 "metadata": {
  "kernelspec": {
   "display_name": "Python 3 (ipykernel)",
   "language": "python",
   "name": "python3"
  },
  "language_info": {
   "codemirror_mode": {
    "name": "ipython",
    "version": 3
   },
   "file_extension": ".py",
   "mimetype": "text/x-python",
   "name": "python",
   "nbconvert_exporter": "python",
   "pygments_lexer": "ipython3",
   "version": "3.10.6"
  }
 },
 "nbformat": 4,
 "nbformat_minor": 5
}
