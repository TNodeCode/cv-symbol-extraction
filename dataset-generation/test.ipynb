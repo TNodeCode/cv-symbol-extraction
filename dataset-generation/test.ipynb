{
 "cells": [
  {
   "cell_type": "code",
   "execution_count": 1,
   "metadata": {},
   "outputs": [
    {
     "ename": "ValueError",
     "evalue": "empty range for randrange() (288, 163, -125)",
     "output_type": "error",
     "traceback": [
      "\u001b[1;31m---------------------------------------------------------------------------\u001b[0m",
      "\u001b[1;31mValueError\u001b[0m                                Traceback (most recent call last)",
      "Cell \u001b[1;32mIn [1], line 36\u001b[0m\n\u001b[0;32m     33\u001b[0m background, image, mask \u001b[39m=\u001b[39m helper\u001b[39m.\u001b[39mprepare_background_image(background, image)\n\u001b[0;32m     35\u001b[0m \u001b[39mif\u001b[39;00m i \u001b[39m==\u001b[39m \u001b[39m0\u001b[39m:\n\u001b[1;32m---> 36\u001b[0m     co \u001b[39m=\u001b[39m torch\u001b[39m.\u001b[39mtensor(helper\u001b[39m.\u001b[39;49mprovide_random_coordinates(background, image))\u001b[39m.\u001b[39mreshape((\u001b[39m1\u001b[39m,\u001b[39m4\u001b[39m))\n\u001b[0;32m     37\u001b[0m \u001b[39melse\u001b[39;00m:\n\u001b[0;32m     38\u001b[0m     co \u001b[39m=\u001b[39m torch\u001b[39m.\u001b[39mtensor(helper\u001b[39m.\u001b[39mprovide_random_coordinates(background, image))\u001b[39m.\u001b[39mreshape((\u001b[39m1\u001b[39m,\u001b[39m4\u001b[39m))\n",
      "File \u001b[1;32mc:\\Users\\benwe\\Qsync\\Uni\\6. Semester\\DLCV\\Project\\Programmieren\\dataset-generation\\helper.py:33\u001b[0m, in \u001b[0;36mprovide_random_coordinates\u001b[1;34m(background, img)\u001b[0m\n\u001b[0;32m     31\u001b[0m h_background, w_background, _ \u001b[39m=\u001b[39m background\u001b[39m.\u001b[39mshape\n\u001b[0;32m     32\u001b[0m y_start \u001b[39m=\u001b[39m random\u001b[39m.\u001b[39mrandint(h_img, h_background\u001b[39m-\u001b[39mh_img)\n\u001b[1;32m---> 33\u001b[0m x_start \u001b[39m=\u001b[39m random\u001b[39m.\u001b[39;49mrandint(w_img, w_background\u001b[39m-\u001b[39;49mw_img)\n\u001b[0;32m     34\u001b[0m \u001b[39mreturn\u001b[39;00m [x_start, x_start\u001b[39m+\u001b[39mw_img, y_start, y_start\u001b[39m+\u001b[39mh_img]\n",
      "File \u001b[1;32mc:\\Users\\benwe\\anaconda3\\envs\\DLCV\\lib\\random.py:370\u001b[0m, in \u001b[0;36mRandom.randint\u001b[1;34m(self, a, b)\u001b[0m\n\u001b[0;32m    366\u001b[0m \u001b[39mdef\u001b[39;00m \u001b[39mrandint\u001b[39m(\u001b[39mself\u001b[39m, a, b):\n\u001b[0;32m    367\u001b[0m     \u001b[39m\"\"\"Return random integer in range [a, b], including both end points.\u001b[39;00m\n\u001b[0;32m    368\u001b[0m \u001b[39m    \"\"\"\u001b[39;00m\n\u001b[1;32m--> 370\u001b[0m     \u001b[39mreturn\u001b[39;00m \u001b[39mself\u001b[39;49m\u001b[39m.\u001b[39;49mrandrange(a, b\u001b[39m+\u001b[39;49m\u001b[39m1\u001b[39;49m)\n",
      "File \u001b[1;32mc:\\Users\\benwe\\anaconda3\\envs\\DLCV\\lib\\random.py:353\u001b[0m, in \u001b[0;36mRandom.randrange\u001b[1;34m(self, start, stop, step)\u001b[0m\n\u001b[0;32m    351\u001b[0m     \u001b[39mif\u001b[39;00m width \u001b[39m>\u001b[39m \u001b[39m0\u001b[39m:\n\u001b[0;32m    352\u001b[0m         \u001b[39mreturn\u001b[39;00m istart \u001b[39m+\u001b[39m \u001b[39mself\u001b[39m\u001b[39m.\u001b[39m_randbelow(width)\n\u001b[1;32m--> 353\u001b[0m     \u001b[39mraise\u001b[39;00m \u001b[39mValueError\u001b[39;00m(\u001b[39m\"\u001b[39m\u001b[39mempty range for randrange() (\u001b[39m\u001b[39m%d\u001b[39;00m\u001b[39m, \u001b[39m\u001b[39m%d\u001b[39;00m\u001b[39m, \u001b[39m\u001b[39m%d\u001b[39;00m\u001b[39m)\u001b[39m\u001b[39m\"\u001b[39m \u001b[39m%\u001b[39m (istart, istop, width))\n\u001b[0;32m    355\u001b[0m \u001b[39m# Non-unit step argument supplied.\u001b[39;00m\n\u001b[0;32m    356\u001b[0m \u001b[39mif\u001b[39;00m istep \u001b[39m>\u001b[39m \u001b[39m0\u001b[39m:\n",
      "\u001b[1;31mValueError\u001b[0m: empty range for randrange() (288, 163, -125)"
     ]
    }
   ],
   "source": [
    "import helper\n",
    "import os\n",
    "import glob\n",
    "import cv2\n",
    "import matplotlib.pyplot as plt\n",
    "import random\n",
    "import torch\n",
    "\n",
    "dataset_path = \"archive\\\\dataset1000\\\\\"\n",
    "if not os.path.exists(dataset_path):\n",
    "    os.mkdir(dataset_path)\n",
    "\n",
    "images_path = \"archive\\\\extracted_images\\\\\"\n",
    "background_path = \"archive\\\\background_images\\\\blackboard\\\\*.jpg\"\n",
    "labels = os.listdir(images_path)\n",
    "backgrounds = [cv2.imread(file) for file in glob.glob(background_path)]\n",
    "images = {}\n",
    "for i, j, k in os.walk(os.getcwd()):\n",
    "    if images_path in i:\n",
    "        images[i[-1]] = list(map(lambda x:i + '\\\\' + x, k))    \n",
    "\n",
    "filename = 0\n",
    "while len(os.listdir(dataset_path))-1 <= 5:\n",
    "    for background in backgrounds:\n",
    "        coordinaten = torch.zeros((30, 4))\n",
    "        for i in range(30):\n",
    "            label_int = random.randint(0, len(labels)-1)\n",
    "            label = labels[label_int]\n",
    "\n",
    "            img_int = random.randint(0, len(images[label])-1)\n",
    "            image = cv2.imread(images[label][img_int])\n",
    "\n",
    "            background, image, mask = helper.prepare_background_image(background, image)\n",
    "\n",
    "            if i == 0:\n",
    "                co = torch.tensor(helper.provide_random_coordinates(background, image)).reshape((1,4))\n",
    "            else:\n",
    "                co = torch.tensor(helper.provide_random_coordinates(background, image)).reshape((1,4))\n",
    "                while not helper.overlap(co, coordinaten):\n",
    "                    co = torch.tensor(helper.provide_random_coordinates(background, image)).reshape((1,4))\n",
    "                \n",
    "            coordinaten[i] = co\n",
    "            print(coordinaten[5, :])\n",
    "\n",
    "\n",
    "\n",
    "            background, x, y, width, height = helper.place_image_on_background(mask, image, background, co[0].tolist())\n",
    "\n",
    "            with open(dataset_path + \"label.txt\", 'a') as label_txt:\n",
    "                label_txt.write(str(filename) + \".jpg, \") # dataset_path + \n",
    "                label_txt.write(str(label) + ', ')\n",
    "                label_txt.write(str(x) + ', ')\n",
    "                label_txt.write(str(y) + ', ')\n",
    "                label_txt.write(str(width) + ', ')\n",
    "                label_txt.write(str(height) + '\\n')\n",
    "            label_txt.close()\n",
    "\n",
    "        cv2.imwrite(dataset_path + str(filename) + \".jpg\", background)\n",
    "        filename += 1\n",
    "        if len(os.listdir(dataset_path))-1 >= 5:\n",
    "            break\n",
    "\n",
    "\n"
   ]
  },
  {
   "cell_type": "code",
   "execution_count": null,
   "metadata": {},
   "outputs": [],
   "source": [
    "coordinaten = torch.zeros((30, 4))\n",
    "c = 1"
   ]
  },
  {
   "cell_type": "code",
   "execution_count": null,
   "metadata": {},
   "outputs": [],
   "source": [
    "t = backgrounds[0]\n",
    "img = cv2.imread(images['5'][0])\n",
    "\n",
    "if torch.all(coordinaten[0] == 0):\n",
    "    coordinaten[0] = torch.tensor(helper.provide_random_coordinates(t, img)).reshape((1,4))\n",
    "else:\n",
    "    co = torch.tensor(helper.provide_random_coordinates(t, img)).reshape((1,4))\n",
    "    # top left corners of all combinations\n",
    "    lt = torch.max(co[:, None, :2], coordinaten[:, :2])  # [N,M,2]\n",
    "\n",
    "    # bottom right corners of all combinations\n",
    "    rb = torch.min(co[:, None, 2:], coordinaten[:, 2:])  # [N,M,2]\n",
    "\n",
    "    # width and hight of overlap area of boxes1 and boxes2.\n",
    "    wh = (rb - lt).clamp(min=0)  # [N,M,2]\n",
    "\n",
    "    # Overlap area H * W.\n",
    "    inter = wh[:, :, 0] * wh[:, :, 1]  # [N,M]\n",
    "    if torch.all(inter == 0):\n",
    "        coordinaten[c] = co\n",
    "        c += 1\n",
    "    else:\n",
    "        print('Überscheindung')\n",
    "        print(inter)\n",
    "        pass\n"
   ]
  },
  {
   "cell_type": "code",
   "execution_count": null,
   "metadata": {},
   "outputs": [],
   "source": [
    "# top left corners of all combinations\n",
    "lt = torch.max(co[:, None, :2], coordinaten[:, :2])  # [N,M,2]\n",
    "\n",
    "# bottom right corners of all combinations\n",
    "rb = torch.min(co[:, None, 2:], coordinaten[:, 2:])  # [N,M,2]\n",
    "\n",
    "# width and hight of overlap area of boxes1 and boxes2.\n",
    "wh = (rb - lt).clamp(min=0)  # [N,M,2]\n",
    "\n",
    "# Overlap area H * W.\n",
    "inter = wh[:, :, 0] * wh[:, :, 1]  # [N,M]"
   ]
  }
 ],
 "metadata": {
  "kernelspec": {
   "display_name": "Python 3.10.8 ('DLCV')",
   "language": "python",
   "name": "python3"
  },
  "language_info": {
   "codemirror_mode": {
    "name": "ipython",
    "version": 3
   },
   "file_extension": ".py",
   "mimetype": "text/x-python",
   "name": "python",
   "nbconvert_exporter": "python",
   "pygments_lexer": "ipython3",
   "version": "3.10.8"
  },
  "orig_nbformat": 4,
  "vscode": {
   "interpreter": {
    "hash": "855614792c74907572fb27150ce83cf292ef7ade5f74d6275359b75e1e2c33a4"
   }
  }
 },
 "nbformat": 4,
 "nbformat_minor": 2
}
