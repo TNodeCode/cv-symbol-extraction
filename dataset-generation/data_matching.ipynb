{
 "cells": [
  {
   "cell_type": "code",
   "execution_count": 5,
   "metadata": {},
   "outputs": [
    {
     "name": "stdout",
     "output_type": "stream",
     "text": [
      "INKMLs:  1157\n",
      "LGs:  1157\n",
      "[]\n"
     ]
    }
   ],
   "source": [
    "import os\n",
    "import glob\n",
    "\n",
    "INKMLs = os.listdir(\"archive\" + os.sep + \"formulaRaw\" + os.sep + \"INKMLs\" + os.sep + \"Inkmls\")\n",
    "LGs = os.listdir(\"archive\" + os.sep + \"formulaRaw\" + os.sep + \"LGs\" + os.sep + \"LGs\")\n",
    "\n",
    "print(\"INKMLs: \", len(INKMLs))\n",
    "print(\"LGs: \", len(LGs))\n",
    "\n",
    "INKMLs = list(map(lambda x: x.replace(\".inkml\", \"\"), INKMLs))\n",
    "LGs = list(map(lambda x: x.replace(\".lg\", \"\"), LGs))\n",
    "\n",
    "difference = list(set(INKMLs).difference(LGs))\n",
    "\n",
    "files = []\n",
    "for file in difference:\n",
    "    path = glob.glob(\"**/**/\" + file + \"*\")[0]\n",
    "    files.append(path)\n",
    "    # os.remove(path)\n",
    "print(files)\n",
    "\n"
   ]
  },
  {
   "cell_type": "code",
   "execution_count": 6,
   "metadata": {},
   "outputs": [
    {
     "name": "stdout",
     "output_type": "stream",
     "text": [
      "INKMLs:  8834\n",
      "LGs:  8834\n",
      "[]\n"
     ]
    }
   ],
   "source": [
    "import os\n",
    "import glob\n",
    "\n",
    "INKMLs_2014 = os.listdir(\"archive\" + os.sep + \"formulaRaw\" + os.sep + \"INKMLs\" + os.sep + \"Inkmls_2014\")\n",
    "LGs_2014 = os.listdir(\"archive\" + os.sep + \"formulaRaw\" + os.sep + \"LGs\" + os.sep + \"LGs_2014\")\n",
    "\n",
    "print(\"INKMLs: \", len(INKMLs_2014))\n",
    "print(\"LGs: \", len(LGs_2014))\n",
    "\n",
    "INKMLs_2014 = list(map(lambda x: x.replace(\".inkml\", \"\"), INKMLs_2014))\n",
    "LGs_2014 = list(map(lambda x: x.replace(\".lg\", \"\"), LGs_2014))\n",
    "\n",
    "difference = list(set(INKMLs_2014).difference(LGs_2014))\n",
    "\n",
    "files = []\n",
    "for file in difference:\n",
    "    path = glob.glob(\"**/**/\" + file + \"*\")[0]\n",
    "    files.append(path)\n",
    "    # os.remove(path)\n",
    "print(files)"
   ]
  },
  {
   "cell_type": "code",
   "execution_count": 22,
   "metadata": {},
   "outputs": [],
   "source": [
    "# Create Test set \n",
    "import numpy.random as random\n",
    "import shutil\n",
    "\n",
    "test = random.choice(INKMLs_2014, 100, replace=False)\n",
    "src_inkmls = \"archive\" + os.sep + \"formulaRaw\" + os.sep + \"INKMLs\" + os.sep + \"Inkmls_2014\" + os.sep\n",
    "dst_inkmls = \"archive\" + os.sep + \"formulaRaw\" + os.sep + \"INKMLs\" + os.sep + \"test\" + os.sep\n",
    "\n",
    "src_lgs = \"archive\" + os.sep + \"formulaRaw\" + os.sep + \"LGs\" + os.sep + \"LGs_2014\" + os.sep\n",
    "dst_lgs = \"archive\" + os.sep + \"formulaRaw\" + os.sep + \"LGs\" + os.sep + \"test\" + os.sep\n",
    "\n",
    "for f in test:\n",
    "    src = src_inkmls + f + \".inkml\"\n",
    "    dst = dst_inkmls + f + \".inkml\"\n",
    "    shutil.copyfile(src, dst)\n",
    "\n",
    "    src = src_lgs + f + \".lg\"\n",
    "    dst = dst_lgs + f + \".lg\"\n",
    "    shutil.copyfile(src, dst)\n",
    "\n"
   ]
  }
 ],
 "metadata": {
  "kernelspec": {
   "display_name": "DLCV",
   "language": "python",
   "name": "python3"
  },
  "language_info": {
   "codemirror_mode": {
    "name": "ipython",
    "version": 3
   },
   "file_extension": ".py",
   "mimetype": "text/x-python",
   "name": "python",
   "nbconvert_exporter": "python",
   "pygments_lexer": "ipython3",
   "version": "3.10.8"
  },
  "orig_nbformat": 4,
  "vscode": {
   "interpreter": {
    "hash": "855614792c74907572fb27150ce83cf292ef7ade5f74d6275359b75e1e2c33a4"
   }
  }
 },
 "nbformat": 4,
 "nbformat_minor": 2
}
