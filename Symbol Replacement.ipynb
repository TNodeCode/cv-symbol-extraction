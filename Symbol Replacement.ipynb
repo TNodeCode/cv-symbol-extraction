{
 "cells": [
  {
   "cell_type": "markdown",
   "id": "26adafdd-0bc1-4379-b6d6-46a187f3f11f",
   "metadata": {},
   "source": [
    "# Symbol Replacement"
   ]
  },
  {
   "cell_type": "code",
   "execution_count": null,
   "id": "13d6c543-4da2-4fb7-a23a-f0e9da5437a6",
   "metadata": {},
   "outputs": [],
   "source": [
    "import torch\n",
    "from seqgen.vocabulary import *\n",
    "from seqgen.symbol_replacement import *\n",
    "from seqgen.datasets.sequences import *\n",
    "from seqgen.datasets.realdata import *\n",
    "\n",
    "%load_ext autoreload\n",
    "%autoreload 2"
   ]
  },
  {
   "cell_type": "code",
   "execution_count": null,
   "id": "c63faca9-d566-4e28-a24b-fa94b0c73a18",
   "metadata": {},
   "outputs": [],
   "source": [
    "max_length=60\n",
    "batch_size=4\n",
    "device=\"cpu\"\n",
    "\n",
    "vocab_in = Vocabulary(vocab_filename=\"seqgen/vocab_in.txt\")\n",
    "vocab_out = Vocabulary(vocab_filename=\"seqgen/vocab_out.txt\")\n",
    "\n",
    "dataset = RealSequencesDataset(filename=\"data/val/label.txt\", vocab_in=vocab_out, vocab_out=vocab_out, max_length=max_length-1, batch_size=batch_size, device=device)"
   ]
  },
  {
   "cell_type": "markdown",
   "id": "28df589b-c4c0-4fa6-a764-da18cd828528",
   "metadata": {},
   "source": [
    "### Replace symbols in sample sequence"
   ]
  },
  {
   "cell_type": "code",
   "execution_count": null,
   "id": "9716a163-ae78-4de2-a430-a30bff8e496c",
   "metadata": {},
   "outputs": [],
   "source": [
    "vocab_in = Vocabulary(vocab_filename=\"seqgen/vocab_in.txt\")\n",
    "vocab_out = Vocabulary(vocab_filename=\"seqgen/vocab_out.txt\")\n",
    "\n",
    "x_in = np.array([\"\\\\sum\", \"\\\\sin\", \"(\"] + list(\"abc123def\") + [\")\", \"+\", \"\\\\alpha\"], dtype=np.dtype('<U32'))\n",
    "x_out = np.array([\"\\\\sum\", \"\\\\sin\", \"(\"] + list(\"a.b.c.1.2.3.d.e.f\") + [\")\", \"+\", \"\\\\alpha\"], dtype=np.dtype('<U32'))\n",
    "\n",
    "x_in_new, x_out_new = replace_symbols(x_in, x_out, None, None)\n",
    "\"\".join(x_in_new), \"\".join(x_out_new)"
   ]
  },
  {
   "cell_type": "markdown",
   "id": "806939e7-e9a1-4a32-9d0d-dac698b51f9e",
   "metadata": {},
   "source": [
    "### Replace symbols in real dataset"
   ]
  },
  {
   "cell_type": "code",
   "execution_count": null,
   "id": "0736018c-39c0-4085-a496-7bc7050f1766",
   "metadata": {},
   "outputs": [],
   "source": [
    "input_seqs, coordinates, target_seqs = dataset[0]\n",
    "input_seq, target_seq = input_seqs[0].numpy(), target_seqs[0].numpy()\n",
    "input_seq_new, target_seq_new = replace_symbols(input_seq, target_seq, vocab_in, vocab_out)\n",
    "\n",
    "print(\"IN ORIG\", \"\".join(vocab_in.decode_sequence(input_seq)).replace(\"<end>\", \"\"))\n",
    "print(\"OUT ORIG\", \"\".join(vocab_out.decode_sequence(target_seq)).replace(\"<end>\", \"\"), \"\\n\")\n",
    "\n",
    "print(\"IN NEW\", \"\".join(vocab_in.decode_sequence(input_seq_new)).replace(\"<end>\", \"\"))\n",
    "print(\"OUT NEW\", \"\".join(vocab_out.decode_sequence(target_seq_new)).replace(\"<end>\", \"\"))"
   ]
  },
  {
   "cell_type": "markdown",
   "id": "74353dd6-5b26-4e30-9ac6-0b4e6ac70ef0",
   "metadata": {},
   "source": [
    "### Apply symbol replacement to batch"
   ]
  },
  {
   "cell_type": "code",
   "execution_count": null,
   "id": "83797416-12b0-466b-a50a-70c6729d8fb8",
   "metadata": {},
   "outputs": [],
   "source": [
    "# Get new batch\n",
    "input_seqs, coordinates, target_seqs = dataset[0]\n",
    "new_input_seqs, new_target_seqs = generate_new_sequences(input_seqs, target_seqs, vocab_in, vocab_out)\n",
    "    \n",
    "print(\"IN ORIG\", \"\".join(vocab_in.decode_sequence(input_seqs[0].numpy())).replace(\"<end>\", \"\"))\n",
    "print(\"OUT ORIG\", \"\".join(vocab_out.decode_sequence(target_seqs[0].numpy())).replace(\"<end>\", \"\"), \"\\n\")\n",
    "\n",
    "print(\"IN NEW\", \"\".join(vocab_in.decode_sequence(new_input_seqs[0].numpy())).replace(\"<end>\", \"\"))\n",
    "print(\"OUT NEW\", \"\".join(vocab_out.decode_sequence(new_target_seqs[0].numpy())).replace(\"<end>\", \"\"))"
   ]
  },
  {
   "cell_type": "code",
   "execution_count": null,
   "id": "a5c6f141-a788-4389-ac13-dc40895f7e80",
   "metadata": {},
   "outputs": [],
   "source": []
  }
 ],
 "metadata": {
  "kernelspec": {
   "display_name": "Python 3 (ipykernel)",
   "language": "python",
   "name": "python3"
  },
  "language_info": {
   "codemirror_mode": {
    "name": "ipython",
    "version": 3
   },
   "file_extension": ".py",
   "mimetype": "text/x-python",
   "name": "python",
   "nbconvert_exporter": "python",
   "pygments_lexer": "ipython3",
   "version": "3.10.6"
  }
 },
 "nbformat": 4,
 "nbformat_minor": 5
}
