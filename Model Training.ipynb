{
 "cells": [
  {
   "cell_type": "code",
   "execution_count": null,
   "id": "1bfba71c-d780-4d14-baf5-1dc3a7113047",
   "metadata": {},
   "outputs": [],
   "source": [
    "from seqgen.model import seq2seq_lstm\n",
    "from seqgen.training import *\n",
    "import seqgen.seq_gen as g\n",
    "\n",
    "%load_ext autoreload\n",
    "%autoreload 2"
   ]
  },
  {
   "cell_type": "markdown",
   "id": "b3992c4b-52e0-4d20-a8d7-85eb1be416a6",
   "metadata": {},
   "source": [
    "## Generate training data"
   ]
  },
  {
   "cell_type": "code",
   "execution_count": null,
   "id": "6e8c9521-1c56-4952-b7ae-44c85d74e2a8",
   "metadata": {},
   "outputs": [],
   "source": [
    "features, targets = g.generate_synthetic_training_data(3, max_length=10)\n",
    "positions = features[:, :, 1:5]\n",
    "input_classes = features[:, :, 0].clone().to(torch.int64)"
   ]
  },
  {
   "cell_type": "code",
   "execution_count": null,
   "id": "2013c1a0-f0c4-4d4e-983f-726449bfe2fe",
   "metadata": {},
   "outputs": [],
   "source": [
    "positions.shape, input_classes.shape, targets.shape"
   ]
  },
  {
   "cell_type": "markdown",
   "id": "38a0db5b-8335-426a-8501-0f3bbb7f4f7c",
   "metadata": {},
   "source": [
    "## Initialize Models"
   ]
  },
  {
   "cell_type": "code",
   "execution_count": null,
   "id": "73f6ea5d-df00-4ef8-afa5-2bddc7c646e6",
   "metadata": {},
   "outputs": [],
   "source": [
    "encoder = seq2seq_lstm.EncoderRNN(vocab_size=17, embedding_dim=10, hidden_size=5).to(features.device)\n",
    "decoder = seq2seq_lstm.DecoderRNN(hidden_size=5, output_size=1).to(features.device)"
   ]
  },
  {
   "cell_type": "code",
   "execution_count": null,
   "id": "df1a9386-979b-494c-999a-d88ce50bb8d2",
   "metadata": {},
   "outputs": [],
   "source": [
    "trainIters(encoder, decoder, input_classes, targets)"
   ]
  },
  {
   "cell_type": "code",
   "execution_count": null,
   "id": "05a560a6-7de1-491e-8ee2-c592c5071279",
   "metadata": {},
   "outputs": [],
   "source": []
  }
 ],
 "metadata": {
  "kernelspec": {
   "display_name": "Python 3 (ipykernel)",
   "language": "python",
   "name": "python3"
  },
  "language_info": {
   "codemirror_mode": {
    "name": "ipython",
    "version": 3
   },
   "file_extension": ".py",
   "mimetype": "text/x-python",
   "name": "python",
   "nbconvert_exporter": "python",
   "pygments_lexer": "ipython3",
   "version": "3.10.6"
  }
 },
 "nbformat": 4,
 "nbformat_minor": 5
}
