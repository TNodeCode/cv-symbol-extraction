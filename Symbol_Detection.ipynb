{
 "cells": [
  {
   "cell_type": "markdown",
   "metadata": {},
   "source": [
    "# Color Threshold, Green Screen"
   ]
  },
  {
   "cell_type": "markdown",
   "metadata": {},
   "source": [
    "### Import resources"
   ]
  },
  {
   "cell_type": "code",
   "execution_count": null,
   "metadata": {
    "tags": []
   },
   "outputs": [],
   "source": [
    "import matplotlib.pyplot as plt\n",
    "import matplotlib.image as mpimg\n",
    "from sklearn.cluster import DBSCAN\n",
    "from skimage.util import random_noise\n",
    "\n",
    "import random\n",
    "import numpy as np\n",
    "import cv2\n",
    "\n",
    "%matplotlib inline"
   ]
  },
  {
   "cell_type": "code",
   "execution_count": null,
   "metadata": {},
   "outputs": [],
   "source": [
    "IMG_FILE='images/demo.png'"
   ]
  },
  {
   "cell_type": "markdown",
   "metadata": {},
   "source": [
    "### Read in and display the image"
   ]
  },
  {
   "cell_type": "code",
   "execution_count": null,
   "metadata": {
    "scrolled": true
   },
   "outputs": [],
   "source": [
    "def read_image(image_file):\n",
    "    # Read in the image\n",
    "    image = cv2.imread(image_file)\n",
    "    image = cv2.cvtColor(image, cv2.COLOR_BGR2RGB)\n",
    "\n",
    "    # Normalize image\n",
    "    #if (image.max() > 1):\n",
    "    #    image = (image / 255).astype(np.uint8)\n",
    "\n",
    "    # Print out the image dimensions (height, width, and depth (color))\n",
    "    return image\n",
    "\n",
    "image = read_image(IMG_FILE)"
   ]
  },
  {
   "cell_type": "code",
   "execution_count": null,
   "metadata": {
    "tags": []
   },
   "outputs": [],
   "source": [
    "# Display the image\n",
    "plt.imshow(image)"
   ]
  },
  {
   "cell_type": "markdown",
   "metadata": {},
   "source": [
    "### Apply K-Means to the image"
   ]
  },
  {
   "cell_type": "code",
   "execution_count": null,
   "metadata": {
    "tags": []
   },
   "outputs": [],
   "source": [
    "def apply_kmeans(image, k=2):\n",
    "    # Reshape image into a 2D array of pixels and 3 color values (RGB)\n",
    "    pixel_vals = image.reshape((-1,3))\n",
    "\n",
    "    # Convert to float type\n",
    "    pixel_vals = np.float32(pixel_vals)\n",
    "\n",
    "    # define stopping criteria\n",
    "    # you can change the number of max iterations for faster convergence!\n",
    "    criteria = (cv2.TERM_CRITERIA_EPS + cv2.TERM_CRITERIA_MAX_ITER, 100, 0.2)\n",
    "\n",
    "    ## TODO: Select a value for k\n",
    "    # then perform k-means clustering\n",
    "    retval, labels, centers = cv2.kmeans(pixel_vals, k, None, criteria, 10, cv2.KMEANS_RANDOM_CENTERS)\n",
    "\n",
    "    # convert data into 8-bit values\n",
    "    centers = np.uint8(centers)\n",
    "    segmented_data = centers[labels.flatten()]\n",
    "\n",
    "    # reshape data into the original image dimensions\n",
    "    segmented_image = segmented_data.reshape((image.shape))\n",
    "    labels_reshape = labels.reshape(image.shape[0], image.shape[1])\n",
    "    \n",
    "    return segmented_image"
   ]
  },
  {
   "cell_type": "code",
   "execution_count": null,
   "metadata": {},
   "outputs": [],
   "source": [
    "def get_gray_image(image):\n",
    "    gray_image = cv2.cvtColor(image, cv2.COLOR_BGR2GRAY)\n",
    "    return gray_image\n",
    "\n",
    "def get_noisy_image(image, mode='s&p', amount=0.3):\n",
    "    return (random_noise(image, mode=mode, amount=amount)*255).astype(np.uint8)"
   ]
  },
  {
   "cell_type": "code",
   "execution_count": null,
   "metadata": {},
   "outputs": [],
   "source": [
    "segmented_image = apply_kmeans(image, k=3)\n",
    "plt.imshow(segmented_image)"
   ]
  },
  {
   "cell_type": "code",
   "execution_count": null,
   "metadata": {},
   "outputs": [],
   "source": [
    "gray_image = get_gray_image(segmented_image)\n",
    "plt.imshow(gray_image, cmap=\"gray\")"
   ]
  },
  {
   "cell_type": "markdown",
   "metadata": {},
   "source": [
    "### Define the color threshold"
   ]
  },
  {
   "cell_type": "code",
   "execution_count": null,
   "metadata": {},
   "outputs": [],
   "source": [
    "def get_mask(image, val_min=200, lower_bound=None, upper_bound=None):\n",
    "    if lower_bound is None:\n",
    "        lower_bound = np.array([val_min/255]) \n",
    "    if upper_bound is None:\n",
    "        upper_bound = np.array([255/255])\n",
    "    # Define the masked area\n",
    "    mask = cv2.inRange(image, lower_bound, upper_bound)\n",
    "    return mask"
   ]
  },
  {
   "cell_type": "markdown",
   "metadata": {},
   "source": [
    "### Create a mask"
   ]
  },
  {
   "cell_type": "code",
   "execution_count": null,
   "metadata": {},
   "outputs": [],
   "source": [
    "# Vizualize the mask\n",
    "mask = get_mask(\n",
    "    gray_image / gray_image.max(),\n",
    "    lower_bound=np.array([225/255]),\n",
    "    upper_bound=np.array([255/255])\n",
    ")\n",
    "plt.imshow(mask, cmap='gray')"
   ]
  },
  {
   "cell_type": "code",
   "execution_count": null,
   "metadata": {},
   "outputs": [],
   "source": [
    "def get_clusters(mask, val_min=600, eps=30, min_samples=100):\n",
    "    light_pixels = np.argwhere(mask > val_min)\n",
    "    clustering = DBSCAN(eps=eps, min_samples=min_samples).fit(light_pixels)\n",
    "    return clustering\n",
    "\n",
    "def get_squares(data, clustering, shape, cluster_threshold=1500):\n",
    "    squares = []\n",
    "    for i in np.unique(clustering.labels_):\n",
    "        cluster = data[clustering.labels_ == i]\n",
    "        cl = np.zeros((shape[0], shape[1]))\n",
    "        cl[cluster[:, 0], cluster[:, 1]] = 1\n",
    "        if (cluster.shape[0] > cluster_threshold):\n",
    "            squares.append((cluster[:, 0].min(), cluster[:, 0].max(), cluster[:, 1].min(), cluster[:, 1].max()))\n",
    "    return squares\n",
    "                   \n",
    "val_min = 200\n",
    "clustering = get_clusters(mask, val_min=val_min, eps=30)\n",
    "light_pixels = np.argwhere(mask > val_min)\n",
    "squares = get_squares(light_pixels, clustering, image.shape)\n",
    "\n",
    "fig, ax = plt.subplots(len(squares))\n",
    "\n",
    "for i, square in enumerate(squares):\n",
    "    cluster = light_pixels[clustering.labels_ == i]\n",
    "    cl = np.zeros((image.shape[0], image.shape[1]))\n",
    "    cl[cluster[:, 0], cluster[:, 1]] = 1\n",
    "    ax[i].imshow(cl)"
   ]
  },
  {
   "cell_type": "code",
   "execution_count": null,
   "metadata": {},
   "outputs": [],
   "source": [
    "def plot_squares(image, squares):\n",
    "    fix, ax = plt.subplots(1, len(squares))\n",
    "    for i, square in enumerate(squares):\n",
    "        ax[i].imshow(image[squares[i][0]:squares[i][1], squares[i][2]:squares[i][3]])\n",
    "    \n",
    "plot_squares(image, squares)"
   ]
  },
  {
   "cell_type": "code",
   "execution_count": null,
   "metadata": {},
   "outputs": [],
   "source": [
    "def save_squares(image, squares):\n",
    "    for i, square in enumerate(squares):\n",
    "        square = image[squares[i][0]:squares[i][1], squares[i][2]:squares[i][3]]\n",
    "        square = apply_kmeans(square, k=2)\n",
    "        square = get_gray_image(square)\n",
    "        square = get_mask(\n",
    "            square / square.max(),\n",
    "            lower_bound=np.array([225/255]),\n",
    "            upper_bound=np.array([255/255])\n",
    "        )\n",
    "        cv2.imwrite(f\"images/square_{i}.jpg\", cv2.cvtColor(square, cv2.COLOR_RGB2BGR))\n",
    "        \n",
    "save_squares(image, squares)"
   ]
  },
  {
   "cell_type": "code",
   "execution_count": null,
   "metadata": {},
   "outputs": [],
   "source": [
    "import random\n",
    "\n",
    "def random_color_switch(image, k=2):\n",
    "    image_seg = apply_kmeans(image, k=k)\n",
    "    image_gray = get_gray_image(image_seg)\n",
    "    mask = get_mask(\n",
    "        image_gray / image_gray.max(),\n",
    "        lower_bound=np.array([225/255]),\n",
    "        upper_bound=np.array([255/255])\n",
    "    )\n",
    "    image_c = image.copy()\n",
    "    r = lambda: random.randint(0, 255)\n",
    "    image_c[mask > 0] = [r(),r(),r()]\n",
    "    image_c[mask < 1] = [r(),r(),r()]\n",
    "    return image_c"
   ]
  },
  {
   "cell_type": "code",
   "execution_count": null,
   "metadata": {},
   "outputs": [],
   "source": [
    "def draw_squares(image, squares):\n",
    "    for i in range(len(squares)):\n",
    "        image = cv2.rectangle(image, (squares[i][2], squares[i][0]), (squares[i][3],squares[i][1]), (0,255,0), 5)\n",
    "    return image"
   ]
  },
  {
   "cell_type": "code",
   "execution_count": null,
   "metadata": {},
   "outputs": [],
   "source": [
    "def annotate_image(image_file, lower_bound=np.array([150/255]), eps=10, min_samples=100, k=2):\n",
    "    image = read_image(image_file)\n",
    "    if image.max() <= 1.0:\n",
    "        image = image * 255\n",
    "    segmented_image = apply_kmeans(image, k=k)\n",
    "    gray_image = get_gray_image(segmented_image)\n",
    "    mask = get_mask(gray_image / gray_image.max(), lower_bound=lower_bound)\n",
    "    clustering = get_clusters(mask, val_min=lower_bound[0]*255, eps=eps, min_samples=min_samples)\n",
    "    light_pixels = np.argwhere(mask > lower_bound[0]*255)\n",
    "    squares = get_squares(light_pixels, clustering, image.shape)\n",
    "    return squares"
   ]
  },
  {
   "cell_type": "code",
   "execution_count": null,
   "metadata": {},
   "outputs": [],
   "source": [
    "IMG_FILE=\"images/demo.png\"\n",
    "\n",
    "squares = annotate_image(\n",
    "    IMG_FILE,\n",
    "    lower_bound=np.array([225/255]),\n",
    "    eps=20,\n",
    "    min_samples=500,\n",
    "    k=3,\n",
    ")\n",
    "\n",
    "image = read_image(IMG_FILE)\n",
    "image_annotated = draw_squares(image, squares)\n",
    "\n",
    "plt.imshow(image_annotated)\n",
    "cv2.imwrite(f\"images/demo_annotated_1.png\", cv2.cvtColor(image_annotated, cv2.COLOR_RGB2BGR))"
   ]
  },
  {
   "cell_type": "code",
   "execution_count": null,
   "metadata": {},
   "outputs": [],
   "source": [
    "IMG_FILE=\"images/demo.png\"\n",
    "\n",
    "squares = annotate_image(\n",
    "    IMG_FILE,\n",
    "    lower_bound=np.array([225/255]),\n",
    "    eps=20,\n",
    "    min_samples=500,\n",
    "    k=3,\n",
    ")\n",
    "\n",
    "image = read_image(IMG_FILE)\n",
    "image_annotated = random_color_switch(image_annotated, k=3)\n",
    "image_annotated = draw_squares(image_annotated, squares)\n",
    "\n",
    "plt.imshow(image_annotated)\n",
    "cv2.imwrite(f\"images/demo_annotated_2.png\", cv2.cvtColor(image_annotated, cv2.COLOR_RGB2BGR))"
   ]
  },
  {
   "cell_type": "code",
   "execution_count": null,
   "metadata": {},
   "outputs": [],
   "source": [
    "IMG_FILE=\"images/demo.png\"\n",
    "\n",
    "squares = annotate_image(\n",
    "    IMG_FILE,\n",
    "    lower_bound=np.array([225/255]),\n",
    "    eps=20,\n",
    "    min_samples=500,\n",
    "    k=3,\n",
    ")\n",
    "\n",
    "image = read_image(IMG_FILE)\n",
    "image_annotated = random_color_switch(image, k=3)\n",
    "image_annotated = get_noisy_image(image_annotated, mode='s&p', amount=random.randint(20,80)/100)\n",
    "image_annotated = draw_squares(image_annotated, squares)\n",
    "\n",
    "plt.imshow(image_annotated)\n",
    "cv2.imwrite(f\"images/demo_annotated_3.png\", cv2.cvtColor(image_annotated, cv2.COLOR_RGB2BGR))"
   ]
  },
  {
   "cell_type": "code",
   "execution_count": null,
   "metadata": {},
   "outputs": [],
   "source": [
    "def get_labels():\n",
    "    n_images = 612\n",
    "    first_label = 59\n",
    "    last_label = 9\n",
    "    batch_size = 12\n",
    "\n",
    "    labels = []\n",
    "    for i in range(int(612 / batch_size)):\n",
    "        for j in range(batch_size):\n",
    "            image_labels = \"0\" + str(first_label - i)\n",
    "            labels.append(image_labels)\n",
    "    \n",
    "    return labels"
   ]
  },
  {
   "cell_type": "code",
   "execution_count": null,
   "metadata": {},
   "outputs": [],
   "source": [
    "import os\n",
    "image_dir = \"images_12\"\n",
    "filenames = os.listdir(f\"../{image_dir}\")\n",
    "\n",
    "classes = get_labels()\n",
    "filelines = []\n",
    "\n",
    "def map_squares(squares):\n",
    "    new_squares = []\n",
    "    for s in squares:\n",
    "        y0,y1,x0,x1 = s\n",
    "        h = y1 - y0\n",
    "        w = x1 - x0\n",
    "        if w < h/2:\n",
    "            x0 = int(x1 - 4*h/5)\n",
    "        new_squares.append((y0,y1,x0,x1))\n",
    "    # sort squares by x0 coordinate\n",
    "    new_squares = sorted(new_squares, key=lambda x: x[2])\n",
    "    \n",
    "    return new_squares\n",
    "\n",
    "def filter_squares(squares):\n",
    "    new_squares = []\n",
    "    for s in squares:\n",
    "        y0,y1,x0,x1 = s\n",
    "        h = y1 - y0\n",
    "        w = x1 - x0\n",
    "        if h > 700 or w > 400:\n",
    "            continue\n",
    "        new_squares.append((y0,y1,x0,x1))\n",
    "    return new_squares\n",
    "        \n",
    "\n",
    "for i, filename in enumerate(filenames):\n",
    "    filepath = f\"../{image_dir}/{filename}\"\n",
    "    squares = annotate_image(\n",
    "        filepath,\n",
    "        lower_bound=np.array([225/255]),\n",
    "        eps=20,\n",
    "        min_samples=500,\n",
    "        k=3,\n",
    "    )\n",
    "    squares = map_squares(squares)\n",
    "    squares = filter_squares(squares)\n",
    "    image_annotated = read_image(filepath)\n",
    "    #image_annotated = draw_squares(image, squares)\n",
    "    print(f\"{i+1}/{len(filenames)} ../{image_dir}_annotated/{filename[:-4]}.jpg\")\n",
    "    if filename[-4:] == \".png\":\n",
    "        image_annotated = image_annotated * 255\n",
    "    image_annotated = random_color_switch(image_annotated, k=3)\n",
    "    image_annotated = get_noisy_image(image_annotated, mode='s&p', amount=random.randint(20,80)/100)\n",
    "    cv2.imwrite(f\"../{image_dir}_annotated/{filename[:-4]}{filename[-4:]}\", cv2.cvtColor(image_annotated, cv2.COLOR_RGB2BGR))\n",
    "    squares = [f\"{s[2]},{s[0]},{s[3]},{s[1]},{classes[i][k]}\" for k,s in enumerate(squares)]\n",
    "    filelines.append(f\"IMAGE_DIR/{filename} {' '.join(squares)}\")\n",
    "    with open(f\"../{image_dir}_annotated/images.txt\", \"w\") as f:\n",
    "        f.write(\"\\n\".join(filelines))"
   ]
  },
  {
   "cell_type": "code",
   "execution_count": null,
   "metadata": {},
   "outputs": [],
   "source": []
  }
 ],
 "metadata": {
  "anaconda-cloud": {},
  "kernelspec": {
   "display_name": "Python 3 (ipykernel)",
   "language": "python",
   "name": "python3"
  },
  "language_info": {
   "codemirror_mode": {
    "name": "ipython",
    "version": 3
   },
   "file_extension": ".py",
   "mimetype": "text/x-python",
   "name": "python",
   "nbconvert_exporter": "python",
   "pygments_lexer": "ipython3",
   "version": "3.10.6"
  }
 },
 "nbformat": 4,
 "nbformat_minor": 4
}
