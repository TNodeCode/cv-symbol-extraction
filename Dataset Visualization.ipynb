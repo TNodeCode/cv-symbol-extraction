{
 "cells": [
  {
   "cell_type": "markdown",
   "id": "1926c2db-80e0-431a-a125-cbd31b3af4e8",
   "metadata": {},
   "source": [
    "# Dataset Visualization"
   ]
  },
  {
   "cell_type": "code",
   "execution_count": null,
   "id": "b261b1b7-3709-447c-83ac-103505c0affc",
   "metadata": {},
   "outputs": [],
   "source": [
    "import torch\n",
    "import numpy as np\n",
    "import matplotlib.pyplot as plt\n",
    "from seqgen.vocabulary import *\n",
    "from seqgen.datasets.sequences import *"
   ]
  },
  {
   "cell_type": "code",
   "execution_count": null,
   "id": "fe79e0f3-6501-47a7-afe0-e4ab6672052a",
   "metadata": {},
   "outputs": [],
   "source": [
    "batch_size=32\n",
    "max_length=50\n",
    "img_width=800\n",
    "img_height=200\n",
    "\n",
    "vocab_in = Vocabulary(vocab_filename=\"seqgen/vocab_in.txt\")\n",
    "vocab_out = Vocabulary(vocab_filename=\"seqgen/vocab_out.txt\")\n",
    "\n",
    "dataset = SyntheticSequenceDataset(vocab_in, vocab_out, max_length, batch_size, continue_prob=0.95, device=\"cpu\")"
   ]
  },
  {
   "cell_type": "code",
   "execution_count": null,
   "id": "3d9851c4-4897-4c21-b0cb-b3247821e0af",
   "metadata": {},
   "outputs": [],
   "source": [
    "input_seqs, coordinates, target_seqs = dataset[0]"
   ]
  },
  {
   "cell_type": "code",
   "execution_count": null,
   "id": "343d985d-2f82-41b6-8607-c948d41c18b8",
   "metadata": {},
   "outputs": [],
   "source": [
    "coordinates[:, :, [0,2]] *= img_width\n",
    "coordinates[:, :, [1,3]] *= img_height"
   ]
  },
  {
   "cell_type": "code",
   "execution_count": null,
   "id": "5ced1936-150f-4757-bb08-528bd92d96a7",
   "metadata": {},
   "outputs": [],
   "source": [
    "coordinates[0, :, :].to(torch.int64)"
   ]
  },
  {
   "cell_type": "code",
   "execution_count": null,
   "id": "cec73959-82b2-4379-93e7-610c03fc6a05",
   "metadata": {},
   "outputs": [],
   "source": [
    "def create_img_array_from_coordinates(coordinates):\n",
    "    img_array = torch.zeros((img_height, img_width))\n",
    "    for i in range(max_length):\n",
    "        x0, y0, x1, y1 = coordinates[i].to(torch.int64)\n",
    "        img_array[int(y0):int(y1), int(x0):int(x0)+1] = 1.0\n",
    "        img_array[int(y0):int(y1), int(x1):int(x1)+1] = 1.0\n",
    "        img_array[int(y0):int(y0)+1, int(x0):int(x1)] = 1.0\n",
    "        img_array[int(y1):int(y1)+1, int(x0):int(x1)] = 1.0\n",
    "    return img_array"
   ]
  },
  {
   "cell_type": "code",
   "execution_count": null,
   "id": "a73db257-e6cc-4667-a92a-e13b4eb397ea",
   "metadata": {},
   "outputs": [],
   "source": [
    "fig, ax = plt.subplots(batch_size, figsize=(50, 80))\n",
    "\n",
    "for i in range(batch_size):\n",
    "    ax[i].imshow(create_img_array_from_coordinates(coordinates[i]).numpy())"
   ]
  },
  {
   "cell_type": "code",
   "execution_count": null,
   "id": "d9838c65-1a29-4fa5-8ae8-e4fbce8455db",
   "metadata": {},
   "outputs": [],
   "source": []
  }
 ],
 "metadata": {
  "kernelspec": {
   "display_name": "Python 3 (ipykernel)",
   "language": "python",
   "name": "python3"
  },
  "language_info": {
   "codemirror_mode": {
    "name": "ipython",
    "version": 3
   },
   "file_extension": ".py",
   "mimetype": "text/x-python",
   "name": "python",
   "nbconvert_exporter": "python",
   "pygments_lexer": "ipython3",
   "version": "3.10.6"
  }
 },
 "nbformat": 4,
 "nbformat_minor": 5
}
