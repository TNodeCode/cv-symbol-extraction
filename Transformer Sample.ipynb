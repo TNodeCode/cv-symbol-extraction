{
 "cells": [
  {
   "cell_type": "code",
   "execution_count": null,
   "id": "7fc95b95-b04b-4bf9-bcc6-7dcef59f76e5",
   "metadata": {},
   "outputs": [],
   "source": [
    "import torch\n",
    "from seqgen.model import transformer\n",
    "\n",
    "%load_ext autoreload\n",
    "%autoreload 2"
   ]
  },
  {
   "cell_type": "code",
   "execution_count": null,
   "id": "7da09304-dd72-41d0-9b00-72419b04f1a3",
   "metadata": {},
   "outputs": [],
   "source": [
    "if torch.cuda.device_count():\n",
    "    device=\"cuda\"\n",
    "else:\n",
    "    device=\"cpu\"\n",
    "print(\"Device\", device)"
   ]
  },
  {
   "cell_type": "code",
   "execution_count": null,
   "id": "f4675fb8-7869-40df-93f6-b4cee8eae9ee",
   "metadata": {},
   "outputs": [],
   "source": [
    "x = torch.tensor([[1,5,6,4,3,9,5,2,9,0],[1,8,7,3,4,5,6,7,1,2]]).to(device)\n",
    "trg = torch.tensor([[1,7,4,3,5,9,2,6,0],[1,5,6,2,4,7,6,4,2]]).to(device)\n",
    "\n",
    "src_pad_idx = 0\n",
    "trg_pad_idx = 0\n",
    "src_vocab_size = 10\n",
    "trg_vocab_size = 10\n",
    "\n",
    "model = transformer.Transformer(src_vocab_size, trg_vocab_size, src_pad_idx, trg_pad_idx, device=device).to(device)"
   ]
  },
  {
   "cell_type": "code",
   "execution_count": null,
   "id": "355babd9-ba09-4166-8ccf-2f7c551e51f3",
   "metadata": {},
   "outputs": [],
   "source": [
    "out = model(x, trg[:, :-1])\n",
    "out.shape #(BATCH, SEQ_LEN, VOCAB_SIZE)"
   ]
  },
  {
   "cell_type": "code",
   "execution_count": null,
   "id": "073a4f90-acdb-47f8-b875-46c894b223ce",
   "metadata": {},
   "outputs": [],
   "source": []
  }
 ],
 "metadata": {
  "kernelspec": {
   "display_name": "Python 3 (ipykernel)",
   "language": "python",
   "name": "python3"
  },
  "language_info": {
   "codemirror_mode": {
    "name": "ipython",
    "version": 3
   },
   "file_extension": ".py",
   "mimetype": "text/x-python",
   "name": "python",
   "nbconvert_exporter": "python",
   "pygments_lexer": "ipython3",
   "version": "3.10.6"
  }
 },
 "nbformat": 4,
 "nbformat_minor": 5
}
