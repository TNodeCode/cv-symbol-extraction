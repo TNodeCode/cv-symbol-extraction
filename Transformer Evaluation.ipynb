{
 "cells": [
  {
   "cell_type": "code",
   "execution_count": null,
   "id": "2847b513-346c-4b92-9105-5e6db399bfb7",
   "metadata": {},
   "outputs": [],
   "source": [
    "import torch\n",
    "import random\n",
    "import pickle\n",
    "import numpy as np\n",
    "import matplotlib.pyplot as plt"
   ]
  },
  {
   "cell_type": "code",
   "execution_count": null,
   "id": "c3df27d0-6d3d-498c-89c1-f4729964dedd",
   "metadata": {},
   "outputs": [],
   "source": [
    "def get_filename(posemb, layers):\n",
    "     return f\"transformer_{posemb}_layer{layers}_10k\"\n",
    "\n",
    "def read_model_data(filename):\n",
    "    with open(filename + '.pkl', 'rb') as f:\n",
    "        return pickle.load(f)"
   ]
  },
  {
   "cell_type": "code",
   "execution_count": null,
   "id": "168f13fc-1183-4f3b-8c22-ba352ae9089c",
   "metadata": {},
   "outputs": [],
   "source": [
    "model_coordemb_1 = read_model_data(get_filename(\"coordemb\", 1))\n",
    "model_coordemb_2 = read_model_data(get_filename(\"coordemb\", 2))\n",
    "model_coordemb_3 = read_model_data(get_filename(\"coordemb\", 3))\n",
    "\n",
    "model_directcoordemb_1 = read_model_data(get_filename(\"directcoordemb\", 1))\n",
    "model_directcoordemb_2 = read_model_data(get_filename(\"directcoordemb\", 2))\n",
    "model_directcoordemb_3 = read_model_data(get_filename(\"directcoordemb\", 3))\n",
    "\n",
    "model_trigposenc_1 = read_model_data(get_filename(\"trigposenc\", 1))\n",
    "model_trigposenc_2 = read_model_data(get_filename(\"trigposenc\", 2))\n",
    "model_trigposenc_3 = read_model_data(get_filename(\"trigposenc\", 3))"
   ]
  },
  {
   "cell_type": "code",
   "execution_count": null,
   "id": "ec4d6290-4a97-474d-b61c-801f6f4311c4",
   "metadata": {},
   "outputs": [],
   "source": [
    "fix, ax = plt.subplots(1, 1, figsize=(16,8))\n",
    "\n",
    "ax.plot(np.array(model_coordemb_1[\"history\"]) / model_coordemb_1[\"max_length\"], alpha=0.8, label=\"1 layer\")\n",
    "ax.plot(np.array(model_coordemb_2[\"history\"]) / model_coordemb_2[\"max_length\"], alpha=0.8, label=\"2 layers\")\n",
    "ax.plot(np.array(model_coordemb_3[\"history\"]) / model_coordemb_3[\"max_length\"], alpha=0.8, label=\"3 layers\")\n",
    "ax.legend()\n",
    "ax.set_title(\"Transformers with direct coordinate input\")\n",
    "ax.set_xlabel(\"Batches\")\n",
    "ax.set_ylabel(\"Loss\")\n",
    "ax.set_ylim([0,4])"
   ]
  },
  {
   "cell_type": "code",
   "execution_count": null,
   "id": "867dd224-a167-49db-857d-4f09c76652e2",
   "metadata": {},
   "outputs": [],
   "source": [
    "fix, ax = plt.subplots(1, 1, figsize=(16,8))\n",
    "\n",
    "ax.plot(np.array(model_directcoordemb_1[\"history\"]) / model_directcoordemb_1[\"max_length\"], alpha=0.8, label=\"1 layer\")\n",
    "ax.plot(np.array(model_directcoordemb_2[\"history\"]) / model_directcoordemb_2[\"max_length\"], alpha=0.8, label=\"2 layers\")\n",
    "ax.plot(np.array(model_directcoordemb_3[\"history\"]) / model_directcoordemb_3[\"max_length\"], alpha=0.8, label=\"3 layers\")\n",
    "ax.legend()\n",
    "ax.set_title(\"Transformers with coordinate residuals\")\n",
    "ax.set_xlabel(\"Batches\")\n",
    "ax.set_ylabel(\"Loss\")\n",
    "ax.set_ylim([0,4])"
   ]
  },
  {
   "cell_type": "code",
   "execution_count": null,
   "id": "5d37025d-ff41-4a87-abc7-eba076aa9d5e",
   "metadata": {},
   "outputs": [],
   "source": [
    "fix, ax = plt.subplots(1, 1, figsize=(16,8))\n",
    "\n",
    "ax.plot(np.array(model_trigposenc_1[\"history\"]) / model_trigposenc_1[\"max_length\"], alpha=0.8, label=\"1 layer\")\n",
    "ax.plot(np.array(model_trigposenc_2[\"history\"]) / model_trigposenc_2[\"max_length\"], alpha=0.8, label=\"2 layers\")\n",
    "ax.plot(np.array(model_trigposenc_3[\"history\"]) / model_trigposenc_3[\"max_length\"], alpha=0.8, label=\"3 layers\")\n",
    "ax.legend()\n",
    "ax.set_title(\"Transformers with sine cosine coordinate encoding\")\n",
    "ax.set_xlabel(\"Batches\")\n",
    "ax.set_ylabel(\"Loss\")\n",
    "ax.set_ylim([0,4])"
   ]
  },
  {
   "cell_type": "code",
   "execution_count": null,
   "id": "9efaf09c-b04c-4a34-9e6a-523b47bbd3a0",
   "metadata": {},
   "outputs": [],
   "source": [
    "model_rel = read_model_data(\"training_realdata2\")\n",
    "\n",
    "fix, ax = plt.subplots(1, 1, figsize=(16,8))\n",
    "\n",
    "ax.plot(np.array(model_rel[\"history\"]) / model_rel[\"max_length\"], alpha=0.8, label=\"loss\")\n",
    "ax.plot(np.array(model_rel[\"accuracy\"])*4, alpha=0.8, label=\"accuracy\")\n",
    "ax.legend()\n",
    "ax.set_title(\"Transformers with sine cosine coordinate encoding\")\n",
    "ax.set_xlabel(\"Batches\")\n",
    "ax.set_ylabel(\"Loss\")\n",
    "ax.set_ylim([0,4])"
   ]
  },
  {
   "cell_type": "code",
   "execution_count": null,
   "id": "06423ded-3d3f-48a4-8657-c7d73920eb1c",
   "metadata": {},
   "outputs": [],
   "source": [
    "model_rel = read_model_data(\"training_realdata3\")\n",
    "\n",
    "fix, ax = plt.subplots(1, 1, figsize=(16,8))\n",
    "\n",
    "ax.plot(np.array(model_rel[\"history\"]) / model_rel[\"max_length\"], alpha=0.8, label=\"loss\")\n",
    "ax.plot(np.array(model_rel[\"accuracy\"])*4, alpha=0.8, label=\"accuracy\")\n",
    "ax.legend()\n",
    "ax.set_title(\"Transformers with sine cosine coordinate encoding\")\n",
    "ax.set_xlabel(\"Batches\")\n",
    "ax.set_ylabel(\"Loss\")\n",
    "ax.set_ylim([0,4])"
   ]
  },
  {
   "cell_type": "code",
   "execution_count": null,
   "id": "62634aee-e2e6-47fe-a98f-e1d1209b554d",
   "metadata": {},
   "outputs": [],
   "source": [
    "model_rel = read_model_data(\"training_realdata4a\")\n",
    "\n",
    "fix, ax = plt.subplots(1, 1, figsize=(16,8))\n",
    "\n",
    "ax.plot(np.array(model_rel[\"history\"]) / model_rel[\"max_length\"], alpha=0.8, label=\"loss\")\n",
    "ax.plot(np.array(model_rel[\"accuracy\"])*4, alpha=0.8, label=\"accuracy\")\n",
    "ax.legend()\n",
    "ax.set_title(\"Transformers with sine cosine coordinate encoding\")\n",
    "ax.set_xlabel(\"Batches\")\n",
    "ax.set_ylabel(\"Loss\")\n",
    "ax.set_ylim([0,4])"
   ]
  },
  {
   "cell_type": "code",
   "execution_count": null,
   "id": "dd515d99-ed33-4018-a054-dd43e4a657ad",
   "metadata": {},
   "outputs": [],
   "source": []
  }
 ],
 "metadata": {
  "kernelspec": {
   "display_name": "Python 3 (ipykernel)",
   "language": "python",
   "name": "python3"
  },
  "language_info": {
   "codemirror_mode": {
    "name": "ipython",
    "version": 3
   },
   "file_extension": ".py",
   "mimetype": "text/x-python",
   "name": "python",
   "nbconvert_exporter": "python",
   "pygments_lexer": "ipython3",
   "version": "3.10.6"
  }
 },
 "nbformat": 4,
 "nbformat_minor": 5
}
