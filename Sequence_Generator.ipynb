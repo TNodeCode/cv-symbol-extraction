{
 "cells": [
  {
   "cell_type": "markdown",
   "id": "a0dd9aef-6c95-4dc7-bbbd-b6eef94609e8",
   "metadata": {},
   "source": [
    "# Training sequence generator"
   ]
  },
  {
   "cell_type": "code",
   "execution_count": 1,
   "id": "bcc92163-9125-450a-9850-d41d6b2fe8f5",
   "metadata": {},
   "outputs": [],
   "source": [
    "import numpy as np\n",
    "import seqgen.seq_gen as g\n",
    "from seqgen.vocabulary import *\n",
    "from seqgen.preprocess import *"
   ]
  },
  {
   "cell_type": "code",
   "execution_count": 2,
   "id": "fca95992-7b85-4baa-84d6-2ac941e5356c",
   "metadata": {},
   "outputs": [
    {
     "data": {
      "text/plain": [
       "[{'feature_seq': [['op_divide',\n",
       "    96.97837215652243,\n",
       "    109.90634295543171,\n",
       "    154.41770014662683,\n",
       "    166.46042246351612],\n",
       "   ['8',\n",
       "    138.51789921272334,\n",
       "    93.36090253541308,\n",
       "    197.20596957459173,\n",
       "    158.49422647441847],\n",
       "   ['1',\n",
       "    161.8800121490045,\n",
       "    107.13441963599833,\n",
       "    226.06838534922616,\n",
       "    161.55876458032105],\n",
       "   ['op_multiply',\n",
       "    187.78745313029756,\n",
       "    106.93364314898628,\n",
       "    250.04756239727976,\n",
       "    168.2485235477471],\n",
       "   ['5',\n",
       "    210.69314968297007,\n",
       "    108.83178395351669,\n",
       "    273.28985396353926,\n",
       "    174.05374824892812],\n",
       "   ['4',\n",
       "    282.6607671502018,\n",
       "    90.5111945192654,\n",
       "    343.5736268534532,\n",
       "    152.55420728367525],\n",
       "   ['7',\n",
       "    308.06120212362674,\n",
       "    94.16761056952438,\n",
       "    372.12791400530756,\n",
       "    155.6891635625144],\n",
       "   ['0',\n",
       "    360.28075896759697,\n",
       "    105.24523719281922,\n",
       "    421.35916872797577,\n",
       "    166.9485462050548],\n",
       "   ['op_plus',\n",
       "    352.26453107297687,\n",
       "    90.40803839490671,\n",
       "    411.61395075383206,\n",
       "    150.96051778806986],\n",
       "   ['op_plus',\n",
       "    391.83124009138214,\n",
       "    102.0102001992025,\n",
       "    454.46866137934995,\n",
       "    164.75772975014027]],\n",
       "  'target_seq': ['/', '8', '1', '\\\\cdot', '5', '4', '7', '0', '+', '+']}]"
      ]
     },
     "execution_count": 2,
     "metadata": {},
     "output_type": "execute_result"
    }
   ],
   "source": [
    "synthetic_sequences = g.generator(num_samples=1)\n",
    "synthetic_sequences"
   ]
  },
  {
   "cell_type": "code",
   "execution_count": 3,
   "id": "b674a270-7243-4c53-abe8-d5a85650c09c",
   "metadata": {},
   "outputs": [],
   "source": [
    "g.save_as_json(g.generator(num_samples=5))"
   ]
  },
  {
   "cell_type": "code",
   "execution_count": 4,
   "id": "664ba26d-b68c-4737-90eb-176c1bfacc3c",
   "metadata": {},
   "outputs": [
    {
     "data": {
      "text/plain": [
       "{'<start>': 0,\n",
       " '<end>': 1,\n",
       " '<unk>': 2,\n",
       " '0': 3,\n",
       " '1': 4,\n",
       " '2': 5,\n",
       " '3': 6,\n",
       " '4': 7,\n",
       " '5': 8,\n",
       " '6': 9,\n",
       " '7': 10,\n",
       " '8': 11,\n",
       " '9': 12,\n",
       " 'op_plus': 13,\n",
       " 'op_minus': 14,\n",
       " 'op_multiply': 15,\n",
       " 'op_divide': 16}"
      ]
     },
     "execution_count": 4,
     "metadata": {},
     "output_type": "execute_result"
    }
   ],
   "source": [
    "vocab_in = Vocabulary(vocab_filename=\"seqgen/vocab_in.txt\")\n",
    "vocab_in.word2idx"
   ]
  },
  {
   "cell_type": "code",
   "execution_count": 5,
   "id": "772c3d45-04a7-475c-b5c3-38a048aae557",
   "metadata": {},
   "outputs": [
    {
     "data": {
      "text/plain": [
       "{0: '<start>',\n",
       " 1: '<end>',\n",
       " 2: '<unk>',\n",
       " 3: '0',\n",
       " 4: '1',\n",
       " 5: '2',\n",
       " 6: '3',\n",
       " 7: '4',\n",
       " 8: '5',\n",
       " 9: '6',\n",
       " 10: '7',\n",
       " 11: '8',\n",
       " 12: '9',\n",
       " 13: 'op_plus',\n",
       " 14: 'op_minus',\n",
       " 15: 'op_multiply',\n",
       " 16: 'op_divide'}"
      ]
     },
     "execution_count": 5,
     "metadata": {},
     "output_type": "execute_result"
    }
   ],
   "source": [
    "vocab_in.idx2word"
   ]
  },
  {
   "cell_type": "code",
   "execution_count": 6,
   "id": "551ca926-ecf8-47c0-999e-ec3b565e83d8",
   "metadata": {},
   "outputs": [
    {
     "data": {
      "text/plain": [
       "{'<start>': 0,\n",
       " '<end>': 1,\n",
       " '<unk>': 2,\n",
       " '0': 3,\n",
       " '1': 4,\n",
       " '2': 5,\n",
       " '3': 6,\n",
       " '4': 7,\n",
       " '5': 8,\n",
       " '6': 9,\n",
       " '7': 10,\n",
       " '8': 11,\n",
       " '9': 12,\n",
       " '+': 13,\n",
       " '-': 14,\n",
       " '\\\\cdot': 15,\n",
       " '/': 16,\n",
       " '(': 17,\n",
       " ')': 18,\n",
       " '[': 19,\n",
       " ']': 20,\n",
       " '{': 21,\n",
       " '}': 22}"
      ]
     },
     "execution_count": 6,
     "metadata": {},
     "output_type": "execute_result"
    }
   ],
   "source": [
    "vocab_out = Vocabulary(vocab_filename=\"seqgen/vocab_out.txt\")\n",
    "vocab_out.word2idx"
   ]
  },
  {
   "cell_type": "markdown",
   "id": "e8956e86-0fd7-402c-a1c3-248c58c11c4f",
   "metadata": {},
   "source": [
    "### Translate sequence of tokens to sequence of integers"
   ]
  },
  {
   "cell_type": "code",
   "execution_count": 7,
   "id": "12f94638-41a5-4cf7-85db-bfce1a966118",
   "metadata": {},
   "outputs": [
    {
     "data": {
      "text/plain": [
       "[{'feature_seq': [[16,\n",
       "    96.97837215652243,\n",
       "    109.90634295543171,\n",
       "    154.41770014662683,\n",
       "    166.46042246351612],\n",
       "   [11,\n",
       "    138.51789921272334,\n",
       "    93.36090253541308,\n",
       "    197.20596957459173,\n",
       "    158.49422647441847],\n",
       "   [4,\n",
       "    161.8800121490045,\n",
       "    107.13441963599833,\n",
       "    226.06838534922616,\n",
       "    161.55876458032105],\n",
       "   [15,\n",
       "    187.78745313029756,\n",
       "    106.93364314898628,\n",
       "    250.04756239727976,\n",
       "    168.2485235477471],\n",
       "   [8,\n",
       "    210.69314968297007,\n",
       "    108.83178395351669,\n",
       "    273.28985396353926,\n",
       "    174.05374824892812],\n",
       "   [7,\n",
       "    282.6607671502018,\n",
       "    90.5111945192654,\n",
       "    343.5736268534532,\n",
       "    152.55420728367525],\n",
       "   [10,\n",
       "    308.06120212362674,\n",
       "    94.16761056952438,\n",
       "    372.12791400530756,\n",
       "    155.6891635625144],\n",
       "   [3,\n",
       "    360.28075896759697,\n",
       "    105.24523719281922,\n",
       "    421.35916872797577,\n",
       "    166.9485462050548],\n",
       "   [13,\n",
       "    352.26453107297687,\n",
       "    90.40803839490671,\n",
       "    411.61395075383206,\n",
       "    150.96051778806986],\n",
       "   [13,\n",
       "    391.83124009138214,\n",
       "    102.0102001992025,\n",
       "    454.46866137934995,\n",
       "    164.75772975014027]],\n",
       "  'target_seq': [16, 11, 4, 15, 8, 7, 10, 3, 13, 13]}]"
      ]
     },
     "execution_count": 7,
     "metadata": {},
     "output_type": "execute_result"
    }
   ],
   "source": [
    "encoded_sequences = encode_classes_of_sequences(synthetic_sequences, vocab_in, vocab_out)\n",
    "encoded_sequences"
   ]
  },
  {
   "cell_type": "markdown",
   "id": "fb643fdd-47d2-4a84-b177-a92a8fcaca31",
   "metadata": {},
   "source": [
    "### Normalize coordinates"
   ]
  },
  {
   "cell_type": "code",
   "execution_count": 8,
   "id": "c22745bc-7ed0-4801-a827-d6eaf3c73741",
   "metadata": {},
   "outputs": [
    {
     "data": {
      "text/plain": [
       "[[16, 0.0, 0.23310585318187227, 0.16067381330825983, 0.9092203796385508],\n",
       " [11,\n",
       "  0.11619763755403403,\n",
       "  0.03530203934738202,\n",
       "  0.2803645314001701,\n",
       "  0.8139830267246922],\n",
       " [4,\n",
       "  0.18154798032018205,\n",
       "  0.1999669949634299,\n",
       "  0.36110075457809304,\n",
       "  0.8506201490738339],\n",
       " [15,\n",
       "  0.25401831521407525,\n",
       "  0.19756667476335693,\n",
       "  0.4281771976898306,\n",
       "  0.9305974602724719],\n",
       " [8, 0.31809193411563697, 0.22025930069531507, 0.4931923666802597, 1.0],\n",
       " [7,\n",
       "  0.5194054232839359,\n",
       "  0.0012332506298137573,\n",
       "  0.6897956731440762,\n",
       "  0.7429689938339469],\n",
       " [10,\n",
       "  0.5904575210308276,\n",
       "  0.044946383755710646,\n",
       "  0.7696699746640712,\n",
       "  0.7804479785219876],\n",
       " [3,\n",
       "  0.7365301792769966,\n",
       "  0.17738146790560333,\n",
       "  0.9073835187989213,\n",
       "  0.9150559896464109],\n",
       " [13, 0.7141065550939535, 0.0, 0.8801234273560754, 0.7239161398574944],\n",
       " [13, 0.8247856706146073, 0.13870599968060401, 1.0, 0.888864371944344]]"
      ]
     },
     "execution_count": 8,
     "metadata": {},
     "output_type": "execute_result"
    }
   ],
   "source": [
    "normalize_coordinates(encoded_sequences[0][\"feature_seq\"])"
   ]
  },
  {
   "cell_type": "markdown",
   "id": "603472cf-9dd3-4142-882d-649d57da5e95",
   "metadata": {},
   "source": [
    "### Translate an encoded sequence back to a sequence of words"
   ]
  },
  {
   "cell_type": "code",
   "execution_count": 9,
   "id": "7aafd713-3155-4159-aaf4-ba1b9e566a04",
   "metadata": {},
   "outputs": [
    {
     "name": "stdout",
     "output_type": "stream",
     "text": [
      "Original Sequence ['/', '8', '1', '\\\\cdot', '5', '4', '7', '0', '+', '+']\n",
      "Encoded Sequence [16, 11, 4, 15, 8, 7, 10, 3, 13, 13]\n",
      "Decoded Sequence ['/', '8', '1', '\\\\cdot', '5', '4', '7', '0', '+', '+']\n"
     ]
    }
   ],
   "source": [
    "print(\"Original Sequence\", synthetic_sequences[0][\"target_seq\"])\n",
    "encoded_sequence = [vocab_out(x) for x in synthetic_sequences[0][\"target_seq\"]]\n",
    "print(\"Encoded Sequence\", encoded_sequence)\n",
    "print(\"Decoded Sequence\", vocab_out.decode_sequence(encoded_sequence))"
   ]
  },
  {
   "cell_type": "code",
   "execution_count": null,
   "id": "7c5ac307-1e24-4c85-86f2-0d2983352519",
   "metadata": {},
   "outputs": [],
   "source": []
  }
 ],
 "metadata": {
  "kernelspec": {
   "display_name": "Python 3 (ipykernel)",
   "language": "python",
   "name": "python3"
  },
  "language_info": {
   "codemirror_mode": {
    "name": "ipython",
    "version": 3
   },
   "file_extension": ".py",
   "mimetype": "text/x-python",
   "name": "python",
   "nbconvert_exporter": "python",
   "pygments_lexer": "ipython3",
   "version": "3.10.6"
  }
 },
 "nbformat": 4,
 "nbformat_minor": 5
}
