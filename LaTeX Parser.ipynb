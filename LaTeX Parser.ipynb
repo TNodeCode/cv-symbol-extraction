{
 "cells": [
  {
   "cell_type": "code",
   "execution_count": null,
   "id": "62d2df8a-a9f5-4ebc-8e7f-133ac7b903d8",
   "metadata": {},
   "outputs": [],
   "source": [
    "import numpy as np\n",
    "import random\n",
    "from seqgen.vocabulary import Vocabulary\n",
    "\n",
    "%load_ext autoreload\n",
    "%autoreload 2"
   ]
  },
  {
   "cell_type": "code",
   "execution_count": null,
   "id": "7d177e28-a455-45ad-9293-19d3989541c1",
   "metadata": {},
   "outputs": [],
   "source": [
    "def read_label_file(filename):\n",
    "    with open(filename, \"r\") as f:\n",
    "        content = f.read()\n",
    "    return content\n",
    "\n",
    "def parse_label_file(content):\n",
    "    lines = content.split(\"\\n\")\n",
    "    formulas = []\n",
    "    boxes = []\n",
    "    for idx_line in range(len(lines)):\n",
    "        end = lines[idx_line][1:].index(\"$\")\n",
    "        formula = lines[idx_line][1:end+1]\n",
    "        formulas.append(formula)\n",
    "        suffix = lines[idx_line][end+3:]\n",
    "        coords = suffix.split(\" \")\n",
    "        assert len(coords) % 5 == 0, \"There must be 5n items in the coordinates string\"\n",
    "        boxes.append(np.array(coords, dtype=float).reshape(-1, 5))\n",
    "    return formulas, boxes\n",
    "\n",
    "def parse_formula(s, keys):\n",
    "    lst = []\n",
    "    pos = 0\n",
    "    while pos < len(s):\n",
    "        found = False\n",
    "        for k in keys:\n",
    "            if s[pos:].startswith(' '):\n",
    "                pos += 1\n",
    "                found=True\n",
    "                break\n",
    "            if s[pos:].startswith(k):\n",
    "                l = len(k)\n",
    "                lst.append(s[pos:pos+l])\n",
    "                pos += l\n",
    "                found=True\n",
    "                break\n",
    "        if not found:\n",
    "            raise Exception(f\"${s[pos:]}$ could not be parsed\")\n",
    "    return lst"
   ]
  },
  {
   "cell_type": "code",
   "execution_count": null,
   "id": "bc7688ad-b33c-4b46-973f-5f4b5329d052",
   "metadata": {},
   "outputs": [],
   "source": [
    "# get the vocabulary\n",
    "vocab_in = Vocabulary(vocab_filename=\"seqgen/vocab_in.txt\")\n",
    "vocab_out = Vocabulary(vocab_filename=\"seqgen/vocab_out.txt\")\n",
    "# read the label file\n",
    "content = read_label_file(\"data/train/label.txt\")\n",
    "# get the formulas, classes and coordinates\n",
    "formulas, boxes = parse_label_file(content)\n",
    "# get the keys\n",
    "keys = np.array(list(sorted(list(vocab_out.word2idx.keys()), key=lambda k: len(k))))[::-1]\n",
    "# get the key lengths\n",
    "lens = np.array(list(map(lambda k: len(k), keys)))"
   ]
  },
  {
   "cell_type": "code",
   "execution_count": null,
   "id": "a69238ea-9710-4f9b-b7e9-9d0c586c8ebe",
   "metadata": {},
   "outputs": [],
   "source": [
    "from seqgen.datasets.realdata import RealSequencesDataset\n",
    "dataset = RealSequencesDataset(filename=\"data/train/label.txt\", vocab_in=vocab_out, vocab_out=vocab_out, max_length=50, batch_size=10)"
   ]
  },
  {
   "cell_type": "code",
   "execution_count": null,
   "id": "efb80cd7-9e85-4337-8157-8f945dad2670",
   "metadata": {},
   "outputs": [],
   "source": [
    "input_seqs, coordinates, target_seqs = dataset.__getitem__(0)\n",
    "input_seqs.shape, target_seqs.shape, coordinates.shape"
   ]
  },
  {
   "cell_type": "code",
   "execution_count": null,
   "id": "9c134aff-8d45-45c4-ac72-f68290fd1768",
   "metadata": {},
   "outputs": [],
   "source": [
    "input_seqs[0], np.array(vocab_in.decode_sequence(input_seqs[0])), coordinates[0]"
   ]
  },
  {
   "cell_type": "code",
   "execution_count": null,
   "id": "c1425694-cb97-45c3-97b8-44dfbdcb5198",
   "metadata": {},
   "outputs": [],
   "source": [
    "target_seqs[0], np.array(vocab_out.decode_sequence(target_seqs[0]))"
   ]
  },
  {
   "cell_type": "code",
   "execution_count": null,
   "id": "de339b1b-7a9a-4efe-a825-8a20945784d6",
   "metadata": {},
   "outputs": [],
   "source": []
  }
 ],
 "metadata": {
  "kernelspec": {
   "display_name": "Python 3 (ipykernel)",
   "language": "python",
   "name": "python3"
  },
  "language_info": {
   "codemirror_mode": {
    "name": "ipython",
    "version": 3
   },
   "file_extension": ".py",
   "mimetype": "text/x-python",
   "name": "python",
   "nbconvert_exporter": "python",
   "pygments_lexer": "ipython3",
   "version": "3.10.6"
  }
 },
 "nbformat": 4,
 "nbformat_minor": 5
}
