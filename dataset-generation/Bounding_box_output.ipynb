{
 "cells": [
  {
   "cell_type": "code",
   "execution_count": null,
   "id": "73b713de",
   "metadata": {},
   "outputs": [],
   "source": [
    "import helper\n",
    "import os\n",
    "import glob\n",
    "import cv2\n",
    "import random\n",
    "import torch\n",
    "import matplotlib.pyplot as plt\n",
    "from matplotlib.patches import Rectangle, Circle\n",
    "import numpy as np\n",
    "\n",
    "\n",
    "%load_ext autoreload\n",
    "%autoreload 2"
   ]
  },
  {
   "cell_type": "code",
   "execution_count": null,
   "id": "04b3abee",
   "metadata": {},
   "outputs": [],
   "source": [
    "dataset_num = 20\n",
    "path = 'archive' + os.sep + 'dataset' + str(dataset_num) + os.sep + 'train' + os.sep\n",
    "image_num = len(os.listdir(path + os.sep + \"images\"))\n",
    "for i in range(image_num):\n",
    "    image = cv2.imread(path + 'images' + os.sep + str(i) + \".jpg\")\n",
    "    image = cv2.cvtColor(image, cv2.COLOR_BGR2RGB)\n",
    "    labels = open(path + 'labels' + os.sep + str(i) + \".txt\", 'r')\n",
    "    bboxes = labels.readlines()\n",
    "\n",
    "    background_height, background_width = image.shape[:2]\n",
    "\n",
    "    for i, co in enumerate(bboxes):\n",
    "        co = co.split(' ')[1:]\n",
    "        if '\\n' in co:\n",
    "            continue\n",
    "        x1 = float(co[0]) * background_width * 2\n",
    "        y1 = float(co[1]) * background_height * 2\n",
    "        x2 = float(co[2]) * background_width\n",
    "        if co[3][-2:-1] == '\\n':\n",
    "            y2 = float(co[3][:-1]) * background_height\n",
    "        else:\n",
    "            y2 = float(co[3]) * background_height\n",
    "\n",
    "        x1 = (x1 - x2) / 2\n",
    "        y1 = (y1 - y2) / 2\n",
    "        plt.gca().add_patch(Rectangle((x1, y1), x2, y2, linewidth=1, edgecolor='r', facecolor='none')) \n",
    "\n",
    "    print(image.shape)\n",
    "    plt.imshow(image)\n",
    "    plt.show()\n",
    "labels.close()\n"
   ]
  }
 ],
 "metadata": {
  "kernelspec": {
   "display_name": "DLCV",
   "language": "python",
   "name": "python3"
  },
  "language_info": {
   "codemirror_mode": {
    "name": "ipython",
    "version": 3
   },
   "file_extension": ".py",
   "mimetype": "text/x-python",
   "name": "python",
   "nbconvert_exporter": "python",
   "pygments_lexer": "ipython3",
   "version": "3.10.8"
  },
  "vscode": {
   "interpreter": {
    "hash": "855614792c74907572fb27150ce83cf292ef7ade5f74d6275359b75e1e2c33a4"
   }
  }
 },
 "nbformat": 4,
 "nbformat_minor": 5
}
