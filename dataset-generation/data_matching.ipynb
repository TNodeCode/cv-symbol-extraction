{
 "cells": [
  {
   "cell_type": "code",
   "execution_count": 36,
   "metadata": {},
   "outputs": [
    {
     "name": "stdout",
     "output_type": "stream",
     "text": [
      "INKMLs:  1157\n",
      "LGs:  1157\n",
      "[]\n"
     ]
    }
   ],
   "source": [
    "import os\n",
    "import glob\n",
    "\n",
    "INKMLs = os.listdir('.' + os.sep + \"INKMLs\" + os.sep + \"Inkmls\")\n",
    "LGs = os.listdir('.' + os.sep + \"LGs\" + os.sep + \"LGs\")\n",
    "\n",
    "print(\"INKMLs: \", len(INKMLs))\n",
    "print(\"LGs: \", len(LGs))\n",
    "\n",
    "INKMLs = list(map(lambda x: x.replace(\".inkml\", \"\"), INKMLs))\n",
    "LGs = list(map(lambda x: x.replace(\".lg\", \"\"), LGs))\n",
    "\n",
    "difference = list(set(INKMLs).difference(LGs))\n",
    "\n",
    "files = []\n",
    "for file in difference:\n",
    "    path = glob.glob(\"**/**/\" + file + \"*\")[0]\n",
    "    files.append(path)\n",
    "    # os.remove(path)\n",
    "print(files)\n",
    "\n"
   ]
  },
  {
   "cell_type": "code",
   "execution_count": 2,
   "metadata": {},
   "outputs": [
    {
     "name": "stdout",
     "output_type": "stream",
     "text": [
      "INKMLs:  1157\n",
      "LGs:  8834\n",
      "[]\n"
     ]
    }
   ],
   "source": [
    "import os\n",
    "import glob\n",
    "\n",
    "INKMLs = os.listdir('.' + os.sep + \"INKMLs\" + os.sep + \"Inkmls_2014\")\n",
    "LGs = os.listdir('.' + os.sep + \"LGs\" + os.sep + \"LGs_2014\")\n",
    "\n",
    "print(\"INKMLs: \", len(INKMLs))\n",
    "print(\"LGs: \", len(LGs))\n",
    "\n",
    "INKMLs = list(map(lambda x: x.replace(\".inkml\", \"\"), INKMLs))\n",
    "LGs = list(map(lambda x: x.replace(\".lg\", \"\"), LGs))\n",
    "\n",
    "difference = list(set(INKMLs).difference(LGs))\n",
    "\n",
    "files = []\n",
    "for file in difference:\n",
    "    path = glob.glob(\"**/**/\" + file + \"*\")[0]\n",
    "    files.append(path)\n",
    "    # os.remove(path)\n",
    "print(files)"
   ]
  }
 ],
 "metadata": {
  "kernelspec": {
   "display_name": "DLCV",
   "language": "python",
   "name": "python3"
  },
  "language_info": {
   "codemirror_mode": {
    "name": "ipython",
    "version": 3
   },
   "file_extension": ".py",
   "mimetype": "text/x-python",
   "name": "python",
   "nbconvert_exporter": "python",
   "pygments_lexer": "ipython3",
   "version": "3.10.8 | packaged by conda-forge | (main, Nov  4 2022, 13:42:51) [MSC v.1916 64 bit (AMD64)]"
  },
  "orig_nbformat": 4,
  "vscode": {
   "interpreter": {
    "hash": "855614792c74907572fb27150ce83cf292ef7ade5f74d6275359b75e1e2c33a4"
   }
  }
 },
 "nbformat": 4,
 "nbformat_minor": 2
}
