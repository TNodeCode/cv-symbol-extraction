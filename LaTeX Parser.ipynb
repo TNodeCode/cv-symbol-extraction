{
 "cells": [
  {
   "cell_type": "code",
   "execution_count": 1,
   "id": "62d2df8a-a9f5-4ebc-8e7f-133ac7b903d8",
   "metadata": {},
   "outputs": [],
   "source": [
    "import numpy as np\n",
    "from seqgen.vocabulary import Vocabulary\n",
    "\n",
    "%load_ext autoreload\n",
    "%autoreload 2"
   ]
  },
  {
   "cell_type": "code",
   "execution_count": 2,
   "id": "7d177e28-a455-45ad-9293-19d3989541c1",
   "metadata": {},
   "outputs": [],
   "source": [
    "def read_label_file(filename):\n",
    "    with open(filename, \"r\") as f:\n",
    "        content = f.read()\n",
    "    return content\n",
    "\n",
    "def parse_label_file(content):\n",
    "    lines = content.split(\"\\n\")\n",
    "    formulas = []\n",
    "    boxes = []\n",
    "    for idx_line in range(len(lines)):\n",
    "        end = lines[idx_line][1:].index(\"$\")\n",
    "        formula = lines[idx_line][1:end+1]\n",
    "        formulas.append(formula)\n",
    "        suffix = lines[idx_line][end+3:]\n",
    "        coords = suffix.split(\" \")\n",
    "        assert len(coords) % 5 == 0, \"There must be 5n items in the coordinates string\"\n",
    "        boxes.append(np.array(coords, dtype=float).reshape(-1, 5))\n",
    "    return formulas, boxes\n",
    "\n",
    "def parse_formula(s, keys):\n",
    "    lst = []\n",
    "    pos = 0\n",
    "    while pos < len(s):\n",
    "        found = False\n",
    "        for k in keys:\n",
    "            if s[pos:].startswith(' '):\n",
    "                pos += 1\n",
    "                found=True\n",
    "                break\n",
    "            if s[pos:].startswith(k):\n",
    "                l = len(k)\n",
    "                lst.append(s[pos:pos+l])\n",
    "                pos += l\n",
    "                found=True\n",
    "                break\n",
    "        if not found:\n",
    "            raise Exception(f\"${s[pos:]}$ could not be parsed\")\n",
    "    return lst"
   ]
  },
  {
   "cell_type": "code",
   "execution_count": 74,
   "id": "bc7688ad-b33c-4b46-973f-5f4b5329d052",
   "metadata": {},
   "outputs": [],
   "source": [
    "# get the vocabulary\n",
    "vocab_out = Vocabulary(vocab_filename=\"seqgen/vocab_out.txt\")\n",
    "# read the label file\n",
    "content = read_label_file(\"data/train/label.txt\")\n",
    "# get the formulas, classes and coordinates\n",
    "formulas, boxes = parse_label_file(content)\n",
    "# get the keys\n",
    "keys = np.array(list(sorted(list(vocab_out.word2idx.keys()), key=lambda k: len(k))))[::-1]\n",
    "# get the key lengths\n",
    "lens = np.array(list(map(lambda k: len(k), keys)))"
   ]
  },
  {
   "cell_type": "code",
   "execution_count": 315,
   "id": "a69238ea-9710-4f9b-b7e9-9d0c586c8ebe",
   "metadata": {},
   "outputs": [],
   "source": [
    "from seqgen.datasets.realdata import RealSequencesDataset\n",
    "dataset = RealSequencesDataset(vocab_in=vocab_out, vocab_out=vocab_out, max_length=50, batch_size=10)"
   ]
  },
  {
   "cell_type": "code",
   "execution_count": 316,
   "id": "efb80cd7-9e85-4337-8157-8f945dad2670",
   "metadata": {},
   "outputs": [
    {
     "data": {
      "text/plain": [
       "(array([38, 26, 12,  8,  9, 38, 26, 38, 26,  4,  8,  1,  1,  1,  1,  1,  1,\n",
       "         1,  1,  1,  1,  1,  1,  1,  1,  1,  1,  1,  1,  1,  1,  1,  1,  1,\n",
       "         1,  1,  1,  1,  1,  1,  1,  1,  1,  1,  1,  1,  1,  1,  1,  1]),\n",
       " array([89, 20, 39, 58, 15,  4, 41, 18, 89, 20, 58, 89, 20, 39, 58, 16,  4,\n",
       "        41,  1,  1,  1,  1,  1,  1,  1,  1,  1,  1,  1,  1,  1,  1,  1,  1,\n",
       "         1,  1,  1,  1,  1,  1,  1,  1,  1,  1,  1,  1,  1,  1,  1,  1]),\n",
       " array([[0.        , 0.03508772, 0.14715719, 0.87719298],\n",
       "        [0.11036789, 0.78947368, 0.15719064, 1.        ],\n",
       "        [0.16053512, 0.80701754, 0.19732441, 0.96491228],\n",
       "        [0.2006689 , 0.75438596, 0.24080268, 1.        ],\n",
       "        [0.35785953, 0.50877193, 0.44816054, 0.71929825],\n",
       "        [0.51505017, 0.        , 0.62541806, 0.78947368],\n",
       "        [0.6187291 , 0.73684211, 0.66220736, 0.92982456],\n",
       "        [0.75585284, 0.01754386, 0.83277592, 0.77192982],\n",
       "        [0.85284281, 0.75438596, 0.90301003, 0.92982456],\n",
       "        [0.909699  , 0.8245614 , 0.94983278, 0.89473684],\n",
       "        [0.9632107 , 0.73684211, 1.        , 0.9122807 ],\n",
       "        [0.        , 0.        , 0.        , 0.        ],\n",
       "        [0.        , 0.        , 0.        , 0.        ],\n",
       "        [0.        , 0.        , 0.        , 0.        ],\n",
       "        [0.        , 0.        , 0.        , 0.        ],\n",
       "        [0.        , 0.        , 0.        , 0.        ],\n",
       "        [0.        , 0.        , 0.        , 0.        ],\n",
       "        [0.        , 0.        , 0.        , 0.        ],\n",
       "        [0.        , 0.        , 0.        , 0.        ],\n",
       "        [0.        , 0.        , 0.        , 0.        ],\n",
       "        [0.        , 0.        , 0.        , 0.        ],\n",
       "        [0.        , 0.        , 0.        , 0.        ],\n",
       "        [0.        , 0.        , 0.        , 0.        ],\n",
       "        [0.        , 0.        , 0.        , 0.        ],\n",
       "        [0.        , 0.        , 0.        , 0.        ],\n",
       "        [0.        , 0.        , 0.        , 0.        ],\n",
       "        [0.        , 0.        , 0.        , 0.        ],\n",
       "        [0.        , 0.        , 0.        , 0.        ],\n",
       "        [0.        , 0.        , 0.        , 0.        ],\n",
       "        [0.        , 0.        , 0.        , 0.        ],\n",
       "        [0.        , 0.        , 0.        , 0.        ],\n",
       "        [0.        , 0.        , 0.        , 0.        ],\n",
       "        [0.        , 0.        , 0.        , 0.        ],\n",
       "        [0.        , 0.        , 0.        , 0.        ],\n",
       "        [0.        , 0.        , 0.        , 0.        ],\n",
       "        [0.        , 0.        , 0.        , 0.        ],\n",
       "        [0.        , 0.        , 0.        , 0.        ],\n",
       "        [0.        , 0.        , 0.        , 0.        ],\n",
       "        [0.        , 0.        , 0.        , 0.        ],\n",
       "        [0.        , 0.        , 0.        , 0.        ],\n",
       "        [0.        , 0.        , 0.        , 0.        ],\n",
       "        [0.        , 0.        , 0.        , 0.        ],\n",
       "        [0.        , 0.        , 0.        , 0.        ],\n",
       "        [0.        , 0.        , 0.        , 0.        ],\n",
       "        [0.        , 0.        , 0.        , 0.        ],\n",
       "        [0.        , 0.        , 0.        , 0.        ],\n",
       "        [0.        , 0.        , 0.        , 0.        ],\n",
       "        [0.        , 0.        , 0.        , 0.        ],\n",
       "        [0.        , 0.        , 0.        , 0.        ],\n",
       "        [0.        , 0.        , 0.        , 0.        ]]))"
      ]
     },
     "execution_count": 316,
     "metadata": {},
     "output_type": "execute_result"
    }
   ],
   "source": [
    "input_seqs, coordinates, target_seqs = dataset.__getitem__(0)\n",
    "input_seqs[0], target_seqs[0], coordinates[0]"
   ]
  },
  {
   "cell_type": "code",
   "execution_count": 294,
   "id": "594172fc-3e10-4614-8f55-d3c337b65232",
   "metadata": {},
   "outputs": [],
   "source": [
    "coords = np.zeros_like(coordinates[0])\n",
    "coords[:, 0] = coordinates[0][:, 0] - 0.5 * coordinates[0][:, 2]\n",
    "coords[:, 2] = coordinates[0][:, 0] + 0.5 * coordinates[0][:, 2]\n",
    "coords[:, 1] = coordinates[0][:, 1] - 0.5 * coordinates[0][:, 3]\n",
    "coords[:, 3] = coordinates[0][:, 1] + 0.5 * coordinates[0][:, 3]"
   ]
  },
  {
   "cell_type": "code",
   "execution_count": 295,
   "id": "053690a7-9e4f-47a0-8eb7-40f2cbd59672",
   "metadata": {},
   "outputs": [],
   "source": [
    "from seqgen.preprocess import *"
   ]
  },
  {
   "cell_type": "code",
   "execution_count": 303,
   "id": "318f1047-9b35-47bb-bea3-e5899f5067b2",
   "metadata": {},
   "outputs": [
    {
     "data": {
      "text/plain": [
       "array([[0.02566453, 0.24585635, 0.23831347, 0.91436464],\n",
       "       [0.08340972, 0.31860037, 0.3015582 , 1.        ],\n",
       "       [0.09990834, 0.32228361, 0.340055  , 1.        ],\n",
       "       [0.10999083, 0.31491713, 0.37396884, 0.99631676],\n",
       "       [0.13932172, 0.3038674 , 0.51695692, 0.9558011 ],\n",
       "       [0.17690192, 0.24677716, 0.65169569, 0.90607735],\n",
       "       [0.22364803, 0.31675875, 0.71860678, 0.9907919 ],\n",
       "       [0.25206233, 0.24953959, 0.84051329, 0.90699816],\n",
       "       [0.28597617, 0.31860037, 0.91292392, 0.99263352],\n",
       "       [0.30430797, 0.32780847, 0.95692026, 0.99815838],\n",
       "       [0.31989001, 0.31767956, 1.        , 0.98987109],\n",
       "       [0.        , 0.        , 0.        , 0.        ],\n",
       "       [0.        , 0.        , 0.        , 0.        ],\n",
       "       [0.        , 0.        , 0.        , 0.        ],\n",
       "       [0.        , 0.        , 0.        , 0.        ],\n",
       "       [0.        , 0.        , 0.        , 0.        ],\n",
       "       [0.        , 0.        , 0.        , 0.        ],\n",
       "       [0.        , 0.        , 0.        , 0.        ],\n",
       "       [0.        , 0.        , 0.        , 0.        ],\n",
       "       [0.        , 0.        , 0.        , 0.        ],\n",
       "       [0.        , 0.        , 0.        , 0.        ],\n",
       "       [0.        , 0.        , 0.        , 0.        ],\n",
       "       [0.        , 0.        , 0.        , 0.        ],\n",
       "       [0.        , 0.        , 0.        , 0.        ],\n",
       "       [0.        , 0.        , 0.        , 0.        ],\n",
       "       [0.        , 0.        , 0.        , 0.        ],\n",
       "       [0.        , 0.        , 0.        , 0.        ],\n",
       "       [0.        , 0.        , 0.        , 0.        ],\n",
       "       [0.        , 0.        , 0.        , 0.        ],\n",
       "       [0.        , 0.        , 0.        , 0.        ],\n",
       "       [0.        , 0.        , 0.        , 0.        ],\n",
       "       [0.        , 0.        , 0.        , 0.        ],\n",
       "       [0.        , 0.        , 0.        , 0.        ],\n",
       "       [0.        , 0.        , 0.        , 0.        ],\n",
       "       [0.        , 0.        , 0.        , 0.        ],\n",
       "       [0.        , 0.        , 0.        , 0.        ],\n",
       "       [0.        , 0.        , 0.        , 0.        ],\n",
       "       [0.        , 0.        , 0.        , 0.        ],\n",
       "       [0.        , 0.        , 0.        , 0.        ],\n",
       "       [0.        , 0.        , 0.        , 0.        ],\n",
       "       [0.        , 0.        , 0.        , 0.        ],\n",
       "       [0.        , 0.        , 0.        , 0.        ],\n",
       "       [0.        , 0.        , 0.        , 0.        ],\n",
       "       [0.        , 0.        , 0.        , 0.        ],\n",
       "       [0.        , 0.        , 0.        , 0.        ],\n",
       "       [0.        , 0.        , 0.        , 0.        ],\n",
       "       [0.        , 0.        , 0.        , 0.        ],\n",
       "       [0.        , 0.        , 0.        , 0.        ],\n",
       "       [0.        , 0.        , 0.        , 0.        ],\n",
       "       [0.        , 0.        , 0.        , 0.        ]])"
      ]
     },
     "execution_count": 303,
     "metadata": {},
     "output_type": "execute_result"
    }
   ],
   "source": [
    "np.array(normalize_coordinates(np.array([coords]), contains_class=False)[0])"
   ]
  },
  {
   "cell_type": "code",
   "execution_count": 299,
   "id": "04820ca1-1fc0-4aae-ba58-6b74faa522fd",
   "metadata": {},
   "outputs": [
    {
     "data": {
      "text/plain": [
       "0.16666666666666666"
      ]
     },
     "execution_count": 299,
     "metadata": {},
     "output_type": "execute_result"
    }
   ],
   "source": [
    "min_max(5, 4, 10)"
   ]
  },
  {
   "cell_type": "code",
   "execution_count": null,
   "id": "ab443382-7e0b-400f-9768-38e063ea98f2",
   "metadata": {},
   "outputs": [],
   "source": []
  }
 ],
 "metadata": {
  "kernelspec": {
   "display_name": "Python 3 (ipykernel)",
   "language": "python",
   "name": "python3"
  },
  "language_info": {
   "codemirror_mode": {
    "name": "ipython",
    "version": 3
   },
   "file_extension": ".py",
   "mimetype": "text/x-python",
   "name": "python",
   "nbconvert_exporter": "python",
   "pygments_lexer": "ipython3",
   "version": "3.10.6"
  }
 },
 "nbformat": 4,
 "nbformat_minor": 5
}
