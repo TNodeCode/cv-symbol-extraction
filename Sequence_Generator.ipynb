{
 "cells": [
  {
   "cell_type": "markdown",
   "id": "a0dd9aef-6c95-4dc7-bbbd-b6eef94609e8",
   "metadata": {},
   "source": [
    "# Training sequence generator"
   ]
  },
  {
   "cell_type": "code",
   "execution_count": 1,
   "id": "bcc92163-9125-450a-9850-d41d6b2fe8f5",
   "metadata": {},
   "outputs": [],
   "source": [
    "import seqgen.seq_gen as g"
   ]
  },
  {
   "cell_type": "code",
   "execution_count": 2,
   "id": "fca95992-7b85-4baa-84d6-2ac941e5356c",
   "metadata": {},
   "outputs": [
    {
     "data": {
      "text/plain": [
       "[{'feature_seq': [['op_plus',\n",
       "    107.9601838419756,\n",
       "    99.19158579483343,\n",
       "    173.66753575278656,\n",
       "    163.54148395142266],\n",
       "   ['2',\n",
       "    142.91479142815373,\n",
       "    102.81869369376379,\n",
       "    207.292991289872,\n",
       "    168.02621230528126],\n",
       "   ['9',\n",
       "    176.57867709289073,\n",
       "    108.05285355462556,\n",
       "    233.53267438837372,\n",
       "    165.6736699883166],\n",
       "   ['op_divide',\n",
       "    193.56501167182103,\n",
       "    104.58677399153915,\n",
       "    248.0793691390487,\n",
       "    166.54713301402668],\n",
       "   ['4',\n",
       "    226.20808797727824,\n",
       "    102.26821285490384,\n",
       "    286.481375201915,\n",
       "    165.42384382064063],\n",
       "   ['2',\n",
       "    255.34836016991642,\n",
       "    104.16938248412755,\n",
       "    314.0630743824956,\n",
       "    169.07240402473104],\n",
       "   ['4',\n",
       "    286.30271761339816,\n",
       "    98.9831021672283,\n",
       "    345.02155397156633,\n",
       "    158.8066265938403],\n",
       "   ['7',\n",
       "    346.6941289302991,\n",
       "    95.13078829731033,\n",
       "    410.1471895488966,\n",
       "    156.8804408372646],\n",
       "   ['op_multiply',\n",
       "    380.136289250964,\n",
       "    106.13542695809883,\n",
       "    438.2879863397681,\n",
       "    164.89455190093454]],\n",
       "  'target_seq': ['+', '2', '9', '/', '4', '2', '4', '7', '\\\\cdot']}]"
      ]
     },
     "execution_count": 2,
     "metadata": {},
     "output_type": "execute_result"
    }
   ],
   "source": [
    "g.generator(num_samples=1)"
   ]
  },
  {
   "cell_type": "code",
   "execution_count": 3,
   "id": "b674a270-7243-4c53-abe8-d5a85650c09c",
   "metadata": {},
   "outputs": [],
   "source": [
    "g.save_as_json(g.generator(num_samples=5))"
   ]
  },
  {
   "cell_type": "code",
   "execution_count": null,
   "id": "664ba26d-b68c-4737-90eb-176c1bfacc3c",
   "metadata": {},
   "outputs": [],
   "source": []
  }
 ],
 "metadata": {
  "kernelspec": {
   "display_name": "Python 3 (ipykernel)",
   "language": "python",
   "name": "python3"
  },
  "language_info": {
   "codemirror_mode": {
    "name": "ipython",
    "version": 3
   },
   "file_extension": ".py",
   "mimetype": "text/x-python",
   "name": "python",
   "nbconvert_exporter": "python",
   "pygments_lexer": "ipython3",
   "version": "3.10.6"
  }
 },
 "nbformat": 4,
 "nbformat_minor": 5
}
